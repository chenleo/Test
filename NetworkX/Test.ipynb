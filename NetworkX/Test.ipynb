{
 "metadata": {
  "name": "",
  "signature": "sha256:06050971d1e6f1338fc1a30f0595dcc7f8fb992b37f0cd795adc7381c1e55b25"
 },
 "nbformat": 3,
 "nbformat_minor": 0,
 "worksheets": [
  {
   "cells": [
    {
     "cell_type": "code",
     "collapsed": false,
     "input": [],
     "language": "python",
     "metadata": {},
     "outputs": [],
     "prompt_number": 0
    },
    {
     "cell_type": "code",
     "collapsed": false,
     "input": [
      "import json\n",
      "import networkx as nx\n",
      "from networkx.readwrite import json_graph\n",
      "import http_server\n",
      "\n",
      "G = nx.barbell_graph(6,3)\n",
      "# this d3 example uses the name attribute for the mouse-hover value,\n",
      "# so add a name to each node\n",
      "for n in G:\n",
      "    G.node[n]['name'] = n\n",
      "# write json formatted data\n",
      "d = json_graph.node_link_data(G) # node-link format to serialize\n",
      "# write json\n",
      "json.dump(d, open('force/force.json','w'))\n",
      "print('Wrote node-link JSON data to force/force.json')\n",
      "# open URL in running web browser\n",
      "http_server.load_url('force/force.html')\n",
      "print('Or copy all files in force/ to webserver and load force/force.html')"
     ],
     "language": "python",
     "metadata": {},
     "outputs": [
      {
       "output_type": "stream",
       "stream": "stdout",
       "text": [
        "Wrote node-link JSON data to force/force.json\n"
       ]
      },
      {
       "name": "stdout",
       "output_type": "stream",
       "stream": "stdout",
       "text": [
        "Press <RETURN> to stop server\n",
        "\n"
       ]
      },
      {
       "output_type": "stream",
       "stream": "stdout",
       "text": [
        "To restart server run: \n",
        "python -m SimpleHTTPServer 8000\n",
        "Or copy all files in force/ to webserver and load force/force.html\n"
       ]
      },
      {
       "output_type": "stream",
       "stream": "stderr",
       "text": [
        "127.0.0.1 - - [12/Apr/2014 11:15:14] code 404, message File not found\n",
        "127.0.0.1 - - [12/Apr/2014 11:15:14] \"GET /force/force.html HTTP/1.1\" 404 -\n"
       ]
      }
     ],
     "prompt_number": 8
    },
    {
     "cell_type": "code",
     "collapsed": false,
     "input": [
      "%%writefile http_server.py\n",
      "# helper to load url\n",
      "# runs webserver and loads url with webbrowswer module\n",
      "import sys\n",
      "\n",
      "def load_url(path):\n",
      "    PORT = 8000\n",
      "    httpd = StoppableHTTPServer((\"127.0.0.1\",PORT), handler)\n",
      "    thread.start_new_thread(httpd.serve, ())\n",
      "    webbrowser.open_new('http://localhost:%s/%s'%(PORT,path))\n",
      "    input(\"Press <RETURN> to stop server\\n\")\n",
      "    httpd.stop()\n",
      "    print(\"To restart server run: \\n%s\"%server)\n",
      "\n",
      "\n",
      "if sys.version_info[0] == 2:\n",
      "    import SimpleHTTPServer, BaseHTTPServer\n",
      "    import socket\n",
      "    import thread\n",
      "    import webbrowser\n",
      "    handler = SimpleHTTPServer.SimpleHTTPRequestHandler\n",
      "    input = raw_input\n",
      "    server = \"python -m SimpleHTTPServer 8000\"\n",
      "\n",
      "    class StoppableHTTPServer(BaseHTTPServer.HTTPServer):\n",
      "\n",
      "        def server_bind(self):\n",
      "            BaseHTTPServer.HTTPServer.server_bind(self)\n",
      "            self.socket.settimeout(1)\n",
      "            self.run = True\n",
      "\n",
      "        def get_request(self):\n",
      "            while self.run:\n",
      "                try:\n",
      "                    sock, addr = self.socket.accept()\n",
      "                    sock.settimeout(None)\n",
      "                    return (sock, addr)\n",
      "                except socket.timeout:\n",
      "                    pass\n",
      "\n",
      "        def stop(self):\n",
      "            self.run = False\n",
      "\n",
      "        def serve(self):\n",
      "            while self.run:\n",
      "                self.handle_request()\n",
      "\n",
      "\n",
      "else:\n",
      "    import http.server, http.server\n",
      "    import socket\n",
      "    import _thread as thread\n",
      "    import webbrowser\n",
      "    handler = http.server.SimpleHTTPRequestHandler\n",
      "    server = \"python -m http.server 8000\"\n",
      "\n",
      "    class StoppableHTTPServer(http.server.HTTPServer):\n",
      "\n",
      "        def server_bind(self):\n",
      "            http.server.HTTPServer.server_bind(self)\n",
      "            self.socket.settimeout(1)\n",
      "            self.run = True\n",
      "\n",
      "        def get_request(self):\n",
      "            while self.run:\n",
      "                try:\n",
      "                    sock, addr = self.socket.accept()\n",
      "                    sock.settimeout(None)\n",
      "                    return (sock, addr)\n",
      "                except socket.timeout:\n",
      "                    pass\n",
      "\n",
      "        def stop(self):\n",
      "            self.run = False\n",
      "\n",
      "        def serve(self):\n",
      "            while self.run:\n",
      "                self.handle_request()"
     ],
     "language": "python",
     "metadata": {},
     "outputs": [
      {
       "output_type": "stream",
       "stream": "stdout",
       "text": [
        "Writing http_server.py\n"
       ]
      }
     ],
     "prompt_number": 7
    },
    {
     "cell_type": "code",
     "collapsed": false,
     "input": [
      "!cat force/force.json"
     ],
     "language": "python",
     "metadata": {},
     "outputs": [
      {
       "output_type": "stream",
       "stream": "stdout",
       "text": [
        "{\"directed\": false, \"graph\": [[\"name\", \"barbell_graph(6,3)\"]], \"nodes\": [{\"name\": 0, \"id\": 0}, {\"name\": 1, \"id\": 1}, {\"name\": 2, \"id\": 2}, {\"name\": 3, \"id\": 3}, {\"name\": 4, \"id\": 4}, {\"name\": 5, \"id\": 5}, {\"name\": 6, \"id\": 6}, {\"name\": 7, \"id\": 7}, {\"name\": 8, \"id\": 8}, {\"name\": 9, \"id\": 9}, {\"name\": 10, \"id\": 10}, {\"name\": 11, \"id\": 11}, {\"name\": 12, \"id\": 12}, {\"name\": 13, \"id\": 13}, {\"name\": 14, \"id\": 14}], \"links\": [{\"source\": 0, \"target\": 1}, {\"source\": 0, \"target\": 2}, {\"source\": 0, \"target\": 3}, {\"source\": 0, \"target\": 4}, {\"source\": 0, \"target\": 5}, {\"source\": 1, \"target\": 2}, {\"source\": 1, \"target\": 3}, {\"source\": 1, \"target\": 4}, {\"source\": 1, \"target\": 5}, {\"source\": 2, \"target\": 3}, {\"source\": 2, \"target\": 4}, {\"source\": 2, \"target\": 5}, {\"source\": 3, \"target\": 4}, {\"source\": 3, \"target\": 5}, {\"source\": 4, \"target\": 5}, {\"source\": 5, \"target\": 6}, {\"source\": 6, \"target\": 7}, {\"source\": 7, \"target\": 8}, {\"source\": 8, \"target\": 9}, {\"source\": 9, \"target\": 10}, {\"source\": 9, \"target\": 11}, {\"source\": 9, \"target\": 12}, {\"source\": 9, \"target\": 13}, {\"source\": 9, \"target\": 14}, {\"source\": 10, \"target\": 11}, {\"source\": 10, \"target\": 12}, {\"source\": 10, \"target\": 13}, {\"source\": 10, \"target\": 14}, {\"source\": 11, \"target\": 12}, {\"source\": 11, \"target\": 13}, {\"source\": 11, \"target\": 14}, {\"source\": 12, \"target\": 13}, {\"source\": 12, \"target\": 14}, {\"source\": 13, \"target\": 14}], \"multigraph\": false}"
       ]
      }
     ],
     "prompt_number": 6
    },
    {
     "cell_type": "code",
     "collapsed": false,
     "input": [],
     "language": "python",
     "metadata": {},
     "outputs": []
    }
   ],
   "metadata": {}
  }
 ]
}