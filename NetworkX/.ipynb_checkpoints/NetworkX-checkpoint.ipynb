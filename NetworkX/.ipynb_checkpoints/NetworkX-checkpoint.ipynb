{
 "metadata": {
  "name": "",
  "signature": "sha256:690fe4279ea998bc0b44fa734e04b1bfbcb5c32c9e53df6c4c843dff17c7beb8"
 },
 "nbformat": 3,
 "nbformat_minor": 0,
 "worksheets": [
  {
   "cells": [
    {
     "cell_type": "markdown",
     "metadata": {},
     "source": [
      "# NetworkX Tutorial\n",
      "[Reference](http://networkx.github.io/documentation/networkx-1.8/_downloads/networkx_tutorial.pdf)"
     ]
    },
    {
     "cell_type": "code",
     "collapsed": false,
     "input": [
      "%matplotlib inline\n",
      "import matplotlib.pyplot as plt\n",
      "import numpy as np"
     ],
     "language": "python",
     "metadata": {},
     "outputs": [],
     "prompt_number": 45
    },
    {
     "cell_type": "markdown",
     "metadata": {},
     "source": [
      "# 1 Creating a graph"
     ]
    },
    {
     "cell_type": "code",
     "collapsed": false,
     "input": [
      ">>> import networkx as nx\n",
      ">>> G=nx.Graph()"
     ],
     "language": "python",
     "metadata": {},
     "outputs": [],
     "prompt_number": 10
    },
    {
     "cell_type": "markdown",
     "metadata": {},
     "source": [
      "# 2 Nodes"
     ]
    },
    {
     "cell_type": "code",
     "collapsed": false,
     "input": [
      ">>> G.add_node(1)\n",
      ">>> G.add_nodes_from([2,3])\n",
      ">>> H=nx.path_graph(10)\n",
      ">>> G.add_nodes_from(H)\n",
      ">>> G.add_node(H)"
     ],
     "language": "python",
     "metadata": {},
     "outputs": [],
     "prompt_number": 11
    },
    {
     "cell_type": "markdown",
     "metadata": {},
     "source": [
      "# 3 Edges"
     ]
    },
    {
     "cell_type": "code",
     "collapsed": false,
     "input": [
      ">>> G.add_edge(1,2)\n",
      ">>> e=(2,3)\n",
      ">>> G.add_edge(*e) # unpack edge tuple*\n",
      ">>> G.add_edges_from([(1,2),(1,3)])\n",
      ">>> G.add_edges_from(H.edges())"
     ],
     "language": "python",
     "metadata": {},
     "outputs": [],
     "prompt_number": 14
    },
    {
     "cell_type": "code",
     "collapsed": false,
     "input": [
      ">>> G.remove_node(H)\n",
      ">>> G.clear()"
     ],
     "language": "python",
     "metadata": {},
     "outputs": [],
     "prompt_number": 15
    },
    {
     "cell_type": "code",
     "collapsed": false,
     "input": [
      ">>> G.add_edges_from([(1,2),(1,3)])\n",
      ">>> G.add_node(1)\n",
      ">>> G.add_edge(1,2)\n",
      ">>> G.add_node(\"spam\") # adds node \"spam\"\n",
      ">>> G.add_nodes_from(\"spam\") # adds 4 nodes: \u2019s\u2019, \u2019p\u2019, \u2019a\u2019, \u2019m\u2019"
     ],
     "language": "python",
     "metadata": {},
     "outputs": [],
     "prompt_number": 16
    },
    {
     "cell_type": "code",
     "collapsed": false,
     "input": [
      ">>> G.number_of_nodes()"
     ],
     "language": "python",
     "metadata": {},
     "outputs": [
      {
       "metadata": {},
       "output_type": "pyout",
       "prompt_number": 17,
       "text": [
        "8"
       ]
      }
     ],
     "prompt_number": 17
    },
    {
     "cell_type": "code",
     "collapsed": false,
     "input": [
      ">>> G.number_of_edges()"
     ],
     "language": "python",
     "metadata": {},
     "outputs": [
      {
       "metadata": {},
       "output_type": "pyout",
       "prompt_number": 21,
       "text": [
        "2"
       ]
      }
     ],
     "prompt_number": 21
    },
    {
     "cell_type": "code",
     "collapsed": false,
     "input": [
      ">>> G.nodes()"
     ],
     "language": "python",
     "metadata": {},
     "outputs": [
      {
       "metadata": {},
       "output_type": "pyout",
       "prompt_number": 25,
       "text": [
        "['a', 1, 2, 3, 'spam', 'm', 'p', 's']"
       ]
      }
     ],
     "prompt_number": 25
    },
    {
     "cell_type": "code",
     "collapsed": false,
     "input": [
      ">>> G.edges()"
     ],
     "language": "python",
     "metadata": {},
     "outputs": [
      {
       "metadata": {},
       "output_type": "pyout",
       "prompt_number": 20,
       "text": [
        "[(1, 2), (1, 3)]"
       ]
      }
     ],
     "prompt_number": 20
    },
    {
     "cell_type": "code",
     "collapsed": false,
     "input": [
      ">>> G.neighbors(1)"
     ],
     "language": "python",
     "metadata": {},
     "outputs": [
      {
       "metadata": {},
       "output_type": "pyout",
       "prompt_number": 24,
       "text": [
        "[2, 3]"
       ]
      }
     ],
     "prompt_number": 24
    },
    {
     "cell_type": "code",
     "collapsed": false,
     "input": [
      ">>> G.remove_nodes_from(\"spam\")\n",
      ">>> G.nodes()"
     ],
     "language": "python",
     "metadata": {},
     "outputs": [
      {
       "metadata": {},
       "output_type": "pyout",
       "prompt_number": 27,
       "text": [
        "[1, 2, 3, 'spam']"
       ]
      }
     ],
     "prompt_number": 27
    },
    {
     "cell_type": "code",
     "collapsed": false,
     "input": [
      ">>> G.remove_edge(1,3)"
     ],
     "language": "python",
     "metadata": {},
     "outputs": [],
     "prompt_number": 28
    },
    {
     "cell_type": "code",
     "collapsed": false,
     "input": [
      ">>> H=nx.DiGraph(G) # create a DiGraph using the connections from G\n",
      ">>> H.edges()"
     ],
     "language": "python",
     "metadata": {},
     "outputs": [
      {
       "metadata": {},
       "output_type": "pyout",
       "prompt_number": 29,
       "text": [
        "[(1, 2), (2, 1)]"
       ]
      }
     ],
     "prompt_number": 29
    },
    {
     "cell_type": "code",
     "collapsed": false,
     "input": [
      ">>> edgelist=[(0,1),(1,2),(2,3)]\n",
      ">>> H=nx.Graph(edgelist)"
     ],
     "language": "python",
     "metadata": {},
     "outputs": [],
     "prompt_number": 30
    },
    {
     "cell_type": "markdown",
     "metadata": {},
     "source": [
      "# 4 What to use as nodes and edges"
     ]
    },
    {
     "cell_type": "markdown",
     "metadata": {},
     "source": [
      "You might notice that nodes and edges are not speci\ufb01ed as NetworkX objects. This leaves you free to use meaningful items as nodes and edges. The most common choices are numbers or strings, but a node can be any hashable object (except None), and an edge can be associated with any object x using G.add_edge(n1,n2,object=x).\n",
      "\n",
      "As an example, n1 and n2 could be protein objects from the RCSB Protein Data Bank, and x could refer to an XML record of publications detailing experimental observations of their interaction.\n",
      "\n",
      "We have found this power quite useful, but its abuse can lead to unexpected surprises unless one is familiar with Python. If in doubt, consider using convert_node_labels_to_integers() to obtain a more traditional graph with integer labels."
     ]
    },
    {
     "cell_type": "markdown",
     "metadata": {},
     "source": [
      "# 5 Accessing edges"
     ]
    },
    {
     "cell_type": "code",
     "collapsed": false,
     "input": [
      ">>> G[1] # Warning: do not change the resulting dict"
     ],
     "language": "python",
     "metadata": {},
     "outputs": [
      {
       "metadata": {},
       "output_type": "pyout",
       "prompt_number": 32,
       "text": [
        "{2: {}}"
       ]
      }
     ],
     "prompt_number": 32
    },
    {
     "cell_type": "code",
     "collapsed": false,
     "input": [
      ">>> G[1][2]"
     ],
     "language": "python",
     "metadata": {},
     "outputs": [
      {
       "metadata": {},
       "output_type": "pyout",
       "prompt_number": 36,
       "text": [
        "{}"
       ]
      }
     ],
     "prompt_number": 36
    },
    {
     "cell_type": "code",
     "collapsed": false,
     "input": [
      ">>> G.add_edge(1,3)\n",
      ">>> G[1][3]['color']='blue'"
     ],
     "language": "python",
     "metadata": {},
     "outputs": [],
     "prompt_number": 38
    },
    {
     "cell_type": "code",
     "collapsed": false,
     "input": [
      ">>> FG=nx.Graph()\n",
      ">>> FG.add_weighted_edges_from([(1,2,0.125),(1,3,0.75),(2,4,1.2),(3,4,0.375)])\n",
      ">>> for n,nbrs in FG.adjacency_iter():\n",
      "...     for nbr,eattr in nbrs.items():\n",
      "...         data=eattr['weight']\n",
      "...         if data<0.5: print('(%d, %d, %.3f)' % (n,nbr,data))"
     ],
     "language": "python",
     "metadata": {},
     "outputs": [
      {
       "output_type": "stream",
       "stream": "stdout",
       "text": [
        "(1, 2, 0.125)\n",
        "(2, 1, 0.125)\n",
        "(3, 4, 0.375)\n",
        "(4, 3, 0.375)\n"
       ]
      }
     ],
     "prompt_number": 40
    },
    {
     "cell_type": "code",
     "collapsed": false,
     "input": [
      "G.add_weighted_edges_from?"
     ],
     "language": "python",
     "metadata": {},
     "outputs": [],
     "prompt_number": 41
    },
    {
     "cell_type": "markdown",
     "metadata": {},
     "source": [
      "# 6 Adding attributes to graphs, nodes, and edges"
     ]
    },
    {
     "cell_type": "markdown",
     "metadata": {},
     "source": [
      "## 6.1 Graph attributes"
     ]
    },
    {
     "cell_type": "code",
     "collapsed": false,
     "input": [
      ">>> G = nx.Graph(day=\"Friday\")\n",
      ">>> G.graph"
     ],
     "language": "python",
     "metadata": {},
     "outputs": [
      {
       "metadata": {},
       "output_type": "pyout",
       "prompt_number": 48,
       "text": [
        "{'day': 'Friday'}"
       ]
      }
     ],
     "prompt_number": 48
    },
    {
     "cell_type": "markdown",
     "metadata": {},
     "source": [
      "## 6.2 Node attributes"
     ]
    },
    {
     "cell_type": "code",
     "collapsed": false,
     "input": [
      ">>> G.add_node(1, time='5pm')\n",
      ">>> G.add_nodes_from([3], time='2pm')\n",
      ">>> G.node[1]"
     ],
     "language": "python",
     "metadata": {},
     "outputs": [
      {
       "metadata": {},
       "output_type": "pyout",
       "prompt_number": 50,
       "text": [
        "{'time': '5pm'}"
       ]
      }
     ],
     "prompt_number": 50
    },
    {
     "cell_type": "code",
     "collapsed": false,
     "input": [
      ">>> G.node[1]['room'] = 714\n",
      ">>> G.nodes(data=True)"
     ],
     "language": "python",
     "metadata": {},
     "outputs": [
      {
       "metadata": {},
       "output_type": "pyout",
       "prompt_number": 57,
       "text": [
        "[(1, {'room': 714, 'time': '5pm'}), (3, {'time': '2pm'})]"
       ]
      }
     ],
     "prompt_number": 57
    },
    {
     "cell_type": "markdown",
     "metadata": {},
     "source": [
      "## 6.3 Edge Attributes"
     ]
    },
    {
     "cell_type": "code",
     "collapsed": false,
     "input": [
      ">>> G.add_edge(1, 2, weight=4.7 )\n",
      ">>> G.add_edges_from([(3,4),(4,5)], color='red')\n",
      ">>> G.add_edges_from([(1,2,{'color':'blue'}), (2,3,{'weight':8})])\n",
      ">>> G[1][2]['weight'] = 4.7\n",
      ">>> G.edge[1][2]['weight'] = 4"
     ],
     "language": "python",
     "metadata": {},
     "outputs": [],
     "prompt_number": 70
    },
    {
     "cell_type": "markdown",
     "metadata": {},
     "source": [
      "# 7 Directed graphs"
     ]
    },
    {
     "cell_type": "code",
     "collapsed": false,
     "input": [
      ">>> DG=nx.DiGraph()\n",
      ">>> DG.add_weighted_edges_from([(1,2,0.5), (3,1,0.75)])\n",
      ">>> DG.out_degree(1,weight='weight')"
     ],
     "language": "python",
     "metadata": {},
     "outputs": [
      {
       "metadata": {},
       "output_type": "pyout",
       "prompt_number": 73,
       "text": [
        "0.5"
       ]
      }
     ],
     "prompt_number": 73
    },
    {
     "cell_type": "code",
     "collapsed": false,
     "input": [
      ">>> DG.degree(1,weight='weight')"
     ],
     "language": "python",
     "metadata": {},
     "outputs": [
      {
       "metadata": {},
       "output_type": "pyout",
       "prompt_number": 76,
       "text": [
        "1.25"
       ]
      }
     ],
     "prompt_number": 76
    },
    {
     "cell_type": "code",
     "collapsed": false,
     "input": [
      ">>> DG.successors(1)"
     ],
     "language": "python",
     "metadata": {},
     "outputs": [
      {
       "metadata": {},
       "output_type": "pyout",
       "prompt_number": 78,
       "text": [
        "[2]"
       ]
      }
     ],
     "prompt_number": 78
    },
    {
     "cell_type": "code",
     "collapsed": false,
     "input": [
      ">>> DG.neighbors(1)"
     ],
     "language": "python",
     "metadata": {},
     "outputs": [
      {
       "metadata": {},
       "output_type": "pyout",
       "prompt_number": 79,
       "text": [
        "[2]"
       ]
      }
     ],
     "prompt_number": 79
    },
    {
     "cell_type": "code",
     "collapsed": false,
     "input": [
      ">>> H= nx.Graph(DG) # convert H to undirected graph"
     ],
     "language": "python",
     "metadata": {},
     "outputs": [],
     "prompt_number": 81
    },
    {
     "cell_type": "markdown",
     "metadata": {},
     "source": [
      "# 8 Multigraphs"
     ]
    },
    {
     "cell_type": "code",
     "collapsed": false,
     "input": [
      ">>> MG=nx.MultiGraph()\n",
      ">>> MG.add_weighted_edges_from([(1,2,.5), (1,2,.75), (2,3,.5)])\n",
      ">>> MG.degree(weight='weight')"
     ],
     "language": "python",
     "metadata": {},
     "outputs": [
      {
       "metadata": {},
       "output_type": "pyout",
       "prompt_number": 83,
       "text": [
        "{1: 1.25, 2: 1.75, 3: 0.5}"
       ]
      }
     ],
     "prompt_number": 83
    },
    {
     "cell_type": "code",
     "collapsed": false,
     "input": [
      ">>> GG=nx.Graph()\n",
      ">>> for n,nbrs in MG.adjacency_iter():\n",
      "...     for nbr,edict in nbrs.items():\n",
      "...         minvalue=min([d['weight'] for d in edict.values()])\n",
      "...         GG.add_edge(n,nbr, weight = minvalue)\n",
      "...\n",
      ">>> nx.shortest_path(GG,1,3)"
     ],
     "language": "python",
     "metadata": {},
     "outputs": [
      {
       "metadata": {},
       "output_type": "pyout",
       "prompt_number": 99,
       "text": [
        "[1, 2, 3]"
       ]
      }
     ],
     "prompt_number": 99
    },
    {
     "cell_type": "markdown",
     "metadata": {},
     "source": [
      "# 9 Graph generators and graph operations\n",
      "\n",
      "In addition to constructing graphs node-by-node or edge-by-edge, they can also be generated by"
     ]
    },
    {
     "cell_type": "markdown",
     "metadata": {},
     "source": [
      "1. Applying classic graph operations, such as:\n",
      "```\n",
      "subgraph(G, nbunch) - induce subgraph of G on nodes in nbunch\n",
      "union(G1,G2) - graph union\n",
      "disjoint_union(G1,G2) - graph union assuming all nodes are different\n",
      "cartesian_product(G1,G2) - return Cartesian product graph\n",
      "compose(G1,G2) - combine graphs identifying nodes common to both\n",
      "complement(G) - graph complement\n",
      "create_empty_copy(G) - return an empty copy of the same graph class\n",
      "convert_to_undirected(G) - return an undirected representation of G\n",
      "convert_to_directed(G) - return a directed representation of G\n",
      "```"
     ]
    },
    {
     "cell_type": "markdown",
     "metadata": {},
     "source": [
      "$2$. Using a call to one of the classic small graphs, e.g."
     ]
    },
    {
     "cell_type": "code",
     "collapsed": false,
     "input": [
      ">>> petersen=nx.petersen_graph()\n",
      ">>> tutte=nx.tutte_graph()\n",
      ">>> maze=nx.sedgewick_maze_graph()\n",
      ">>> tet=nx.tetrahedral_graph()"
     ],
     "language": "python",
     "metadata": {},
     "outputs": [],
     "prompt_number": 100
    },
    {
     "cell_type": "markdown",
     "metadata": {},
     "source": [
      "$3$. Using a (constructive) generator for a classic graph, e.g."
     ]
    },
    {
     "cell_type": "code",
     "collapsed": false,
     "input": [
      ">>> K_5=nx.complete_graph(5)\n",
      ">>> K_3_5=nx.complete_bipartite_graph(3,5)\n",
      ">>> barbell=nx.barbell_graph(10,10)\n",
      ">>> lollipop=nx.lollipop_graph(10,20)"
     ],
     "language": "python",
     "metadata": {},
     "outputs": [],
     "prompt_number": 109
    },
    {
     "cell_type": "markdown",
     "metadata": {},
     "source": [
      "$4$. Using a stochastic graph generator, e.g."
     ]
    },
    {
     "cell_type": "code",
     "collapsed": false,
     "input": [
      ">>> er=nx.erdos_renyi_graph(100,0.15)\n",
      ">>> ws=nx.watts_strogatz_graph(30,3,0.1)\n",
      ">>> ba=nx.barabasi_albert_graph(100,5)\n",
      ">>> red=nx.random_lobster(100,0.9,0.9)"
     ],
     "language": "python",
     "metadata": {},
     "outputs": [],
     "prompt_number": 110
    },
    {
     "cell_type": "markdown",
     "metadata": {},
     "source": [
      "$5$. Reading a graph stored in a \ufb01le using common graph formats, such as edge lists, adjacency lists, GML, GraphML, pickle, LEDA and others."
     ]
    },
    {
     "cell_type": "code",
     "collapsed": false,
     "input": [
      ">>> nx.write_gml(red,\"path.to.file\")\n",
      ">>> mygraph=nx.read_gml(\"path.to.file\")"
     ],
     "language": "python",
     "metadata": {},
     "outputs": [],
     "prompt_number": 115
    },
    {
     "cell_type": "markdown",
     "metadata": {},
     "source": [
      "# 10 Analyzing graphs"
     ]
    },
    {
     "cell_type": "code",
     "collapsed": false,
     "input": [
      ">>> G=nx.Graph()\n",
      ">>> G.add_edges_from([(1,2),(1,3)])\n",
      ">>> G.add_node(\"spam\") "
     ],
     "language": "python",
     "metadata": {},
     "outputs": [],
     "prompt_number": 116
    },
    {
     "cell_type": "code",
     "collapsed": false,
     "input": [
      ">>> nx.connected_components(G)"
     ],
     "language": "python",
     "metadata": {},
     "outputs": [
      {
       "metadata": {},
       "output_type": "pyout",
       "prompt_number": 117,
       "text": [
        "[[1, 2, 3], ['spam']]"
       ]
      }
     ],
     "prompt_number": 117
    },
    {
     "cell_type": "code",
     "collapsed": false,
     "input": [
      ">>> sorted(nx.degree(G).values())"
     ],
     "language": "python",
     "metadata": {},
     "outputs": [
      {
       "metadata": {},
       "output_type": "pyout",
       "prompt_number": 118,
       "text": [
        "[0, 1, 1, 2]"
       ]
      }
     ],
     "prompt_number": 118
    },
    {
     "cell_type": "code",
     "collapsed": false,
     "input": [
      ">>> nx.clustering(G)"
     ],
     "language": "python",
     "metadata": {},
     "outputs": [
      {
       "metadata": {},
       "output_type": "pyout",
       "prompt_number": 119,
       "text": [
        "{1: 0.0, 2: 0.0, 3: 0.0, 'spam': 0.0}"
       ]
      }
     ],
     "prompt_number": 119
    },
    {
     "cell_type": "code",
     "collapsed": false,
     "input": [
      ">>> nx.degree(G)"
     ],
     "language": "python",
     "metadata": {},
     "outputs": [
      {
       "metadata": {},
       "output_type": "pyout",
       "prompt_number": 120,
       "text": [
        "{1: 2, 2: 1, 3: 1, 'spam': 0}"
       ]
      }
     ],
     "prompt_number": 120
    },
    {
     "cell_type": "markdown",
     "metadata": {},
     "source": [
      "For values of speci\ufb01c nodes, you can provide a single node or an nbunch of nodes as argument. If a single node is\n",
      "speci\ufb01ed, then a single value is returned. If an nbunch is speci\ufb01ed, then the function will return a dictionary."
     ]
    },
    {
     "cell_type": "code",
     "collapsed": false,
     "input": [
      ">>> nx.degree(G,1)"
     ],
     "language": "python",
     "metadata": {},
     "outputs": [
      {
       "metadata": {},
       "output_type": "pyout",
       "prompt_number": 121,
       "text": [
        "2"
       ]
      }
     ],
     "prompt_number": 121
    },
    {
     "cell_type": "code",
     "collapsed": false,
     "input": [
      ">>> G.degree(1)"
     ],
     "language": "python",
     "metadata": {},
     "outputs": [
      {
       "metadata": {},
       "output_type": "pyout",
       "prompt_number": 122,
       "text": [
        "2"
       ]
      }
     ],
     "prompt_number": 122
    },
    {
     "cell_type": "code",
     "collapsed": false,
     "input": [
      ">>> G.degree([1,2])"
     ],
     "language": "python",
     "metadata": {},
     "outputs": [
      {
       "metadata": {},
       "output_type": "pyout",
       "prompt_number": 123,
       "text": [
        "{1: 2, 2: 1}"
       ]
      }
     ],
     "prompt_number": 123
    },
    {
     "cell_type": "code",
     "collapsed": false,
     "input": [
      ">>> sorted(G.degree([1,2]).values())"
     ],
     "language": "python",
     "metadata": {},
     "outputs": [
      {
       "metadata": {},
       "output_type": "pyout",
       "prompt_number": 124,
       "text": [
        "[1, 2]"
       ]
      }
     ],
     "prompt_number": 124
    },
    {
     "cell_type": "code",
     "collapsed": false,
     "input": [
      ">>> sorted(G.degree().values())"
     ],
     "language": "python",
     "metadata": {},
     "outputs": [
      {
       "metadata": {},
       "output_type": "pyout",
       "prompt_number": 125,
       "text": [
        "[0, 1, 1, 2]"
       ]
      }
     ],
     "prompt_number": 125
    },
    {
     "cell_type": "markdown",
     "metadata": {},
     "source": [
      "# 11 Drawing graphs"
     ]
    },
    {
     "cell_type": "code",
     "collapsed": false,
     "input": [
      "# >>> nx.draw_shell(red)"
     ],
     "language": "python",
     "metadata": {},
     "outputs": [],
     "prompt_number": 126
    },
    {
     "cell_type": "code",
     "collapsed": false,
     "input": [
      ">>> nx.draw(G)\n",
      ">>> plt.savefig(\"path.png\")"
     ],
     "language": "python",
     "metadata": {},
     "outputs": [
      {
       "metadata": {},
       "output_type": "display_data",
       "png": "[encoded data removed]",
       "text": [
        "<matplotlib.figure.Figure at 0x104f864d0>"
       ]
      }
     ],
     "prompt_number": 92
    },
    {
     "cell_type": "code",
     "collapsed": false,
     "input": [
      "#>>> nx.draw_graphviz(G)\n",
      "#>>> nx.write_dot(G,'file.dot')"
     ],
     "language": "python",
     "metadata": {},
     "outputs": [],
     "prompt_number": 98
    },
    {
     "cell_type": "code",
     "collapsed": false,
     "input": [
      "Image(\"path.png\")"
     ],
     "language": "python",
     "metadata": {},
     "outputs": [
      {
       "metadata": {},
       "output_type": "pyout",
       "png": "[encoded data removed]",
       "prompt_number": 95,
       "text": [
        "<IPython.core.display.Image at 0x104de0f10>"
       ]
      }
     ],
     "prompt_number": 95
    },
    {
     "cell_type": "code",
     "collapsed": false,
     "input": [],
     "language": "python",
     "metadata": {},
     "outputs": []
    }
   ],
   "metadata": {}
  }
 ]
}