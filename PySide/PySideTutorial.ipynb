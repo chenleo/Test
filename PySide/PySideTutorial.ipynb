{
 "metadata": {
  "name": "",
  "signature": "sha256:3c2355918d30010d3833a974d1b14e6b78198df51bcaf70f5cc1ea6b6386adda"
 },
 "nbformat": 3,
 "nbformat_minor": 0,
 "worksheets": [
  {
   "cells": [
    {
     "cell_type": "markdown",
     "metadata": {},
     "source": [
      "[Reference:](http://zetcode.com/gui/pysidetutorial/)"
     ]
    },
    {
     "cell_type": "markdown",
     "metadata": {},
     "source": [
      "# Initial:"
     ]
    },
    {
     "cell_type": "code",
     "collapsed": false,
     "input": [
      "import sys\n",
      "from PySide import QtGui\n",
      "app = QtGui.QApplication(sys.argv)"
     ],
     "language": "python",
     "metadata": {},
     "outputs": [],
     "prompt_number": 2
    },
    {
     "cell_type": "code",
     "collapsed": false,
     "input": [
      "# Chapter2\n",
      "#wid = QtGui.QWidget()\n",
      "wid = QtGui.QMainWindow()\n",
      "wid.statusBar().showMessage(\"Ready\")\n",
      "wid.setGeometry(300,300,250,150)\n",
      "#wid.resize(250, 150)\n",
      "wid.setWindowTitle('Simple')"
     ],
     "language": "python",
     "metadata": {},
     "outputs": [],
     "prompt_number": 33
    },
    {
     "cell_type": "code",
     "collapsed": false,
     "input": [
      "exitAction = QtGui.QAction()"
     ],
     "language": "python",
     "metadata": {},
     "outputs": []
    },
    {
     "cell_type": "code",
     "collapsed": false,
     "input": [
      "# chapter2:\n",
      "class Example(QtGui.QWidget):\n",
      "    def __init__(self):\n",
      "        super(Example, self).__init__()\n",
      "        self.initUI()\n",
      "    def initUI(self):\n",
      "        QtGui.QToolTip.setFont(QtGui.QFont('SansSerif', 10))\n",
      "        \n",
      "        self.setToolTip('This is a <b>QWidget</b> widget')\n",
      "        \n",
      "        btn = QtGui.QPushButton('Button', self)\n",
      "        btn.setToolTip('This is a <b>QPushButton</b> widget')\n",
      "        btn.resize(btn.sizeHint())\n",
      "        btn.move(50, 50)       \n",
      "        \n",
      "        self.setGeometry(300, 300, 250, 150)\n",
      "        self.setWindowTitle('Tooltips')    \n",
      "        self.show()"
     ],
     "language": "python",
     "metadata": {},
     "outputs": [],
     "prompt_number": 29
    },
    {
     "cell_type": "code",
     "collapsed": false,
     "input": [
      "wid.show()\n",
      "#ex = Example()\n",
      "sys.exit(app.exec_())"
     ],
     "language": "python",
     "metadata": {},
     "outputs": [
      {
       "ename": "SystemExit",
       "evalue": "0",
       "output_type": "pyerr",
       "traceback": [
        "An exception has occurred, use %tb to see the full traceback.\n",
        "\u001b[1;31mSystemExit\u001b[0m\u001b[1;31m:\u001b[0m 0\n"
       ]
      },
      {
       "output_type": "stream",
       "stream": "stderr",
       "text": [
        "To exit: use 'exit', 'quit', or Ctrl-D.\n"
       ]
      }
     ],
     "prompt_number": 32
    },
    {
     "cell_type": "code",
     "collapsed": false,
     "input": [
      "whos"
     ],
     "language": "python",
     "metadata": {},
     "outputs": [
      {
       "output_type": "stream",
       "stream": "stdout",
       "text": [
        "Variable   Type            Data/Info\n",
        "------------------------------------\n",
        "QtGui      module          <module 'PySide.QtGui' fr<...>ackages/PySide/QtGui.so'>\n",
        "app        QApplication    <PySide.QtGui.QApplication object at 0x1e96368>\n",
        "sys        module          <module 'sys' (built-in)>\n",
        "wid        QWidget         <PySide.QtGui.QWidget object at 0x1e9d7a0>\n"
       ]
      }
     ],
     "prompt_number": 10
    },
    {
     "cell_type": "code",
     "collapsed": false,
     "input": [
      "del wid"
     ],
     "language": "python",
     "metadata": {},
     "outputs": [],
     "prompt_number": 27
    },
    {
     "cell_type": "code",
     "collapsed": false,
     "input": [],
     "language": "python",
     "metadata": {},
     "outputs": []
    }
   ],
   "metadata": {}
  }
 ]
}