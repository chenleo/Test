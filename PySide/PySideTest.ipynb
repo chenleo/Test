{
 "metadata": {
  "name": "",
  "signature": "sha256:d7bcefa54fa17a69a710044314d634431bd9b06e1b9489325c5dab2cdce9ad07"
 },
 "nbformat": 3,
 "nbformat_minor": 0,
 "worksheets": [
  {
   "cells": [
    {
     "cell_type": "markdown",
     "metadata": {},
     "source": [
      "# PySideTest"
     ]
    },
    {
     "cell_type": "code",
     "collapsed": false,
     "input": [
      "import sys\n",
      "from PySide import QtCore, QtGui"
     ],
     "language": "python",
     "metadata": {},
     "outputs": [],
     "prompt_number": 1
    },
    {
     "cell_type": "code",
     "collapsed": false,
     "input": [
      "app = QtGui.QApplication(sys.argv)"
     ],
     "language": "python",
     "metadata": {},
     "outputs": [],
     "prompt_number": 2
    },
    {
     "cell_type": "code",
     "collapsed": false,
     "input": [
      "listTest = QtGui.QListWidget()"
     ],
     "language": "python",
     "metadata": {},
     "outputs": [],
     "prompt_number": 7
    },
    {
     "cell_type": "code",
     "collapsed": false,
     "input": [
      "listTest.addItems(list(np.arange(10)))"
     ],
     "language": "python",
     "metadata": {},
     "outputs": [],
     "prompt_number": 9
    },
    {
     "cell_type": "code",
     "collapsed": false,
     "input": [
      "listTest.item(15)"
     ],
     "language": "python",
     "metadata": {},
     "outputs": [
      {
       "metadata": {},
       "output_type": "pyout",
       "prompt_number": 19,
       "text": [
        "<PySide.QtGui.QListWidgetItem at 0x288fbd8>"
       ]
      }
     ],
     "prompt_number": 19
    },
    {
     "cell_type": "code",
     "collapsed": false,
     "input": [
      "import numpy as np"
     ],
     "language": "python",
     "metadata": {},
     "outputs": [],
     "prompt_number": 4
    },
    {
     "cell_type": "code",
     "collapsed": false,
     "input": [
      "list(np.arange(10))"
     ],
     "language": "python",
     "metadata": {},
     "outputs": [
      {
       "metadata": {},
       "output_type": "pyout",
       "prompt_number": 5,
       "text": [
        "[0, 1, 2, 3, 4, 5, 6, 7, 8, 9]"
       ]
      }
     ],
     "prompt_number": 5
    },
    {
     "cell_type": "code",
     "collapsed": false,
     "input": [
      "%qtconsole"
     ],
     "language": "python",
     "metadata": {},
     "outputs": [],
     "prompt_number": 20
    },
    {
     "cell_type": "code",
     "collapsed": false,
     "input": [
      "whos"
     ],
     "language": "python",
     "metadata": {},
     "outputs": [
      {
       "output_type": "stream",
       "stream": "stdout",
       "text": [
        "Variable   Type      Data/Info\n",
        "------------------------------\n",
        "QtCore     module    <module 'PySide.QtCore' f<...>kages\\PySide\\QtCore.pyd'>\n",
        "QtGui      module    <module 'PySide.QtGui' fr<...>ckages\\PySide\\QtGui.pyd'>\n",
        "sys        module    <module 'sys' (built-in)>\n"
       ]
      }
     ],
     "prompt_number": 4
    },
    {
     "cell_type": "code",
     "collapsed": false,
     "input": [
      "cat /usr/bin/pyuic4"
     ],
     "language": "python",
     "metadata": {},
     "outputs": [
      {
       "output_type": "stream",
       "stream": "stdout",
       "text": [
        "#!/bin/sh\r\n",
        "exec /usr/bin/python /usr/lib64/python2.7/site-packages/PyQt4/uic/pyuic.py ${1+\"$@\"}\r\n"
       ]
      }
     ],
     "prompt_number": 21
    },
    {
     "cell_type": "code",
     "collapsed": false,
     "input": [
      "%load mainwindow.py"
     ],
     "language": "python",
     "metadata": {},
     "outputs": [],
     "prompt_number": 22
    },
    {
     "cell_type": "code",
     "collapsed": false,
     "input": [
      "%%writefile mainwindow.py\n",
      "# Form implementation generated from reading ui file 'mainwindow.ui'\n",
      "#\n",
      "# Created by: PyQt4 UI code generator 4.10.3\n",
      "#\n",
      "# WARNING! All changes made in this file will be lost!\n",
      "\n",
      "import sys\n",
      "from PySide import QtCore, QtGui\n",
      "\n",
      "try:\n",
      "    _fromUtf8 = QtCore.QString.fromUtf8\n",
      "except AttributeError:\n",
      "    def _fromUtf8(s):\n",
      "        return s\n",
      "\n",
      "try:\n",
      "    _encoding = QtGui.QApplication.UnicodeUTF8\n",
      "    def _translate(context, text, disambig):\n",
      "        return QtGui.QApplication.translate(context, text, disambig, _encoding)\n",
      "except AttributeError:\n",
      "    def _translate(context, text, disambig):\n",
      "        return QtGui.QApplication.translate(context, text, disambig)\n",
      "\n",
      "class Ui_MainWindow(object):\n",
      "    def setupUi(self, MainWindow):\n",
      "        MainWindow.setObjectName(_fromUtf8(\"MainWindow\"))\n",
      "        MainWindow.resize(230, 96)\n",
      "        self.centralwidget = QtGui.QWidget(MainWindow)\n",
      "        self.centralwidget.setObjectName(_fromUtf8(\"centralwidget\"))\n",
      "        self.gridLayout = QtGui.QGridLayout(self.centralwidget)\n",
      "        self.gridLayout.setObjectName(_fromUtf8(\"gridLayout\"))\n",
      "        self.horizontalLayout = QtGui.QHBoxLayout()\n",
      "        self.horizontalLayout.setObjectName(_fromUtf8(\"horizontalLayout\"))\n",
      "        self.lineEdit = QtGui.QLineEdit(self.centralwidget)\n",
      "        self.lineEdit.setObjectName(_fromUtf8(\"lineEdit\"))\n",
      "        self.horizontalLayout.addWidget(self.lineEdit)\n",
      "        self.pushButton = QtGui.QPushButton(self.centralwidget)\n",
      "        self.pushButton.setObjectName(_fromUtf8(\"pushButton\"))\n",
      "        self.horizontalLayout.addWidget(self.pushButton)\n",
      "        self.gridLayout.addLayout(self.horizontalLayout, 0, 0, 1, 1)\n",
      "        MainWindow.setCentralWidget(self.centralwidget)\n",
      "        self.menubar = QtGui.QMenuBar(MainWindow)\n",
      "        self.menubar.setGeometry(QtCore.QRect(0, 0, 230, 18))\n",
      "        self.menubar.setObjectName(_fromUtf8(\"menubar\"))\n",
      "        self.menuFile = QtGui.QMenu(self.menubar)\n",
      "        self.menuFile.setObjectName(_fromUtf8(\"menuFile\"))\n",
      "        MainWindow.setMenuBar(self.menubar)\n",
      "        self.statusbar = QtGui.QStatusBar(MainWindow)\n",
      "        self.statusbar.setObjectName(_fromUtf8(\"statusbar\"))\n",
      "        MainWindow.setStatusBar(self.statusbar)\n",
      "        self.action_New = QtGui.QAction(MainWindow)\n",
      "        self.action_New.setObjectName(_fromUtf8(\"action_New\"))\n",
      "        self.menuFile.addAction(self.action_New)\n",
      "        self.menubar.addAction(self.menuFile.menuAction())\n",
      "\n",
      "        self.retranslateUi(MainWindow)\n",
      "        QtCore.QMetaObject.connectSlotsByName(MainWindow)\n",
      "\n",
      "    def retranslateUi(self, MainWindow):\n",
      "        MainWindow.setWindowTitle(_translate(\"MainWindow\", \"MainWindow\", None))\n",
      "        self.pushButton.setText(_translate(\"MainWindow\", \"PushButton\", None))\n",
      "        self.menuFile.setTitle(_translate(\"MainWindow\", \"&File\", None))\n",
      "        self.action_New.setText(_translate(\"MainWindow\", \"&New ..\", None))\n",
      "\n",
      "class ControlMainWindow(QtGui.QMainWindow):\n",
      "    def __init__(self, parent=None):\n",
      "        super(ControlMainWindow, self).__init__(parent)\n",
      "        self.ui =  Ui_MainWindow()\n",
      "        self.ui.setupUi(self)\n",
      "   \n",
      "if __name__ == \"__main__\":\n",
      "    app = QtGui.QApplication(sys.argv)\n",
      "    mySW = ControlMainWindow()\n",
      "    mySW.show()\n",
      "    sys.exit(app.exec_())"
     ],
     "language": "python",
     "metadata": {},
     "outputs": [
      {
       "output_type": "stream",
       "stream": "stdout",
       "text": [
        "Overwriting mainwindow.py\n"
       ]
      }
     ],
     "prompt_number": 23
    },
    {
     "cell_type": "code",
     "collapsed": false,
     "input": [],
     "language": "python",
     "metadata": {},
     "outputs": []
    }
   ],
   "metadata": {}
  }
 ]
}