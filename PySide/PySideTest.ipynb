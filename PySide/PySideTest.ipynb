{
 "metadata": {
  "name": "",
  "signature": "sha256:5abfe9bfa07996843e7f231188a36bc3f2089db057d20d776c35a615cc62178d"
 },
 "nbformat": 3,
 "nbformat_minor": 0,
 "worksheets": [
  {
   "cells": [
    {
     "cell_type": "markdown",
     "metadata": {},
     "source": [
      "# PySideTest"
     ]
    },
    {
     "cell_type": "code",
     "collapsed": false,
     "input": [
      "import sys\n",
      "from PySide import QtGui"
     ],
     "language": "python",
     "metadata": {},
     "outputs": [],
     "prompt_number": 1
    },
    {
     "cell_type": "code",
     "collapsed": false,
     "input": [
      "app = QtGui.QApplication(sys.argv)\n",
      "\n",
      "wid = QtGui.QWidget()\n",
      "wid.resize(250, 150)\n",
      "wid.setWindowTitle('Simple')\n",
      "wid.show()\n",
      "\n",
      "sys.exit(app.exec_())"
     ],
     "language": "python",
     "metadata": {},
     "outputs": [
      {
       "ename": "SystemExit",
       "evalue": "0",
       "output_type": "pyerr",
       "traceback": [
        "An exception has occurred, use %tb to see the full traceback.\n",
        "\u001b[0;31mSystemExit\u001b[0m\u001b[0;31m:\u001b[0m 0\n"
       ]
      },
      {
       "output_type": "stream",
       "stream": "stderr",
       "text": [
        "To exit: use 'exit', 'quit', or Ctrl-D.\n"
       ]
      }
     ],
     "prompt_number": 2
    },
    {
     "cell_type": "code",
     "collapsed": false,
     "input": [
      "%%writefile icon.py\n",
      "#!/usr/bin/python\n",
      "# -*- coding: utf-8 -*-\n",
      "\n",
      "\"\"\"\n",
      "ZetCode PySide tutorial \n",
      "\n",
      "This example shows an icon\n",
      "in the titlebar of the window.\n",
      "\n",
      "author: Jan Bodnar\n",
      "website: zetcode.com \n",
      "last edited: August 2011\n",
      "\"\"\"\n",
      "\n",
      "import sys\n",
      "from PySide import QtGui\n",
      "\n",
      "class Example(QtGui.QWidget):\n",
      "    \n",
      "    def __init__(self):\n",
      "        super(Example, self).__init__()\n",
      "        \n",
      "        self.initUI()\n",
      "        \n",
      "    def initUI(self):\n",
      "        \n",
      "        self.setGeometry(300, 300, 250, 150)\n",
      "        self.setWindowTitle('Icon')\n",
      "        self.setWindowIcon(QtGui.QIcon('web.png'))        \n",
      "    \n",
      "        self.show()\n",
      "        \n",
      "def main():\n",
      "    \n",
      "    app = QtGui.QApplication(sys.argv)\n",
      "    ex = Example()\n",
      "    sys.exit(app.exec_())\n",
      "\n",
      "\n",
      "if __name__ == '__main__':\n",
      "    main()"
     ],
     "language": "python",
     "metadata": {},
     "outputs": [
      {
       "output_type": "stream",
       "stream": "stdout",
       "text": [
        "Overwriting icon.py\n"
       ]
      }
     ],
     "prompt_number": 2
    },
    {
     "cell_type": "code",
     "collapsed": false,
     "input": [
      "%run icon.py"
     ],
     "language": "python",
     "metadata": {},
     "outputs": [],
     "prompt_number": 3
    },
    {
     "cell_type": "code",
     "collapsed": false,
     "input": [
      "whos"
     ],
     "language": "python",
     "metadata": {},
     "outputs": [
      {
       "output_type": "stream",
       "stream": "stdout",
       "text": [
        "Variable   Type          Data/Info\n",
        "----------------------------------\n",
        "Example    ObjectType    <class '__main__.Example'>\n",
        "QtGui      module        <module 'PySide.QtGui' fr<...>ackages/PySide/QtGui.so'>\n",
        "main       function      <function main at 0x1ed10c8>\n",
        "sys        module        <module 'sys' (built-in)>\n"
       ]
      }
     ],
     "prompt_number": 4
    },
    {
     "cell_type": "code",
     "collapsed": false,
     "input": [
      "del main"
     ],
     "language": "python",
     "metadata": {},
     "outputs": [],
     "prompt_number": 13
    },
    {
     "cell_type": "code",
     "collapsed": false,
     "input": [],
     "language": "python",
     "metadata": {},
     "outputs": []
    }
   ],
   "metadata": {}
  }
 ]
}