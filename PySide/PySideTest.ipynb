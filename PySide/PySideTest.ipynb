{
 "metadata": {
  "name": "",
  "signature": "sha256:72c234f138288c1572741e3a4c3e4959a68c7d9228e38518f2ef25807b499dda"
 },
 "nbformat": 3,
 "nbformat_minor": 0,
 "worksheets": [
  {
   "cells": [
    {
     "cell_type": "markdown",
     "metadata": {},
     "source": [
      "# PySideTest"
     ]
    },
    {
     "cell_type": "code",
     "collapsed": false,
     "input": [
      "import sys\n",
      "from PySide import QtCore\n",
      "from PySide import QtGui"
     ],
     "language": "python",
     "metadata": {},
     "outputs": [],
     "prompt_number": 1
    },
    {
     "cell_type": "code",
     "collapsed": false,
     "input": [
      "app = QtGui.QApplication(sys.argv)"
     ],
     "language": "python",
     "metadata": {},
     "outputs": [],
     "prompt_number": 3
    },
    {
     "cell_type": "code",
     "collapsed": false,
     "input": [
      "B6luaU5SJZE\n",
      "http://qt-project.org/wiki/PySide_Tutorials"
     ],
     "language": "python",
     "metadata": {},
     "outputs": []
    },
    {
     "cell_type": "code",
     "collapsed": false,
     "input": [
      "%%writefile greetingForm.py\n",
      "import sys\n",
      "from PySide import QtCore\n",
      "from PySide import QtGui\n",
      "\n",
      "class Form(QtGui.QDialog):\n",
      "    def __init__(self, parent = None):\n",
      "        super(Form, self).__init__(parent)\n",
      "        self.edit = QtGui.QLineEdit(\"Write my Name Here\")\n",
      "        self.button = QtGui.QPushButton(\"Show Greetings\")\n",
      "        \n",
      "        layout = QtGui.QVBoxLayout()\n",
      "        layout.addWidget(self.edit)\n",
      "        layout.addWidget(self.button)\n",
      "        \n",
      "        self.setLayout(layout)\n",
      "        self.button.clicked.connect(self.greetings)\n",
      "    \n",
      "    def greetings(self):\n",
      "        print (\"Hello %s\" % self.edit.text())\n",
      "\n",
      "if __name__ == \"__main__\":\n",
      "    app = QtGui.QApplication(sys.argv)\n",
      "    form = Form()\n",
      "    form.show()\n",
      "    \n",
      "    sys.exit(app.exec_())"
     ],
     "language": "python",
     "metadata": {},
     "outputs": [
      {
       "output_type": "stream",
       "stream": "stdout",
       "text": [
        "Writing greetingForm.py\n"
       ]
      }
     ],
     "prompt_number": 45
    },
    {
     "cell_type": "code",
     "collapsed": false,
     "input": [
      "#test range\n",
      "layout = QtGui.QVBoxLayout()\n",
      "testDiallog = QtGui.QDialog()\n",
      "testButton = QtGui.QPushButton(\"Show Greetings\")"
     ],
     "language": "python",
     "metadata": {},
     "outputs": []
    },
    {
     "cell_type": "code",
     "collapsed": false,
     "input": [
      "form = Form()\n",
      "form.show()\n",
      "app.exec_()\n",
      "sys.exit()"
     ],
     "language": "python",
     "metadata": {},
     "outputs": [
      {
       "output_type": "stream",
       "stream": "stdout",
       "text": [
        "Hello Write my Name Here\n",
        "Hello Write my Name Here"
       ]
      },
      {
       "output_type": "stream",
       "stream": "stdout",
       "text": [
        "\n",
        "Hello Write my Name Here"
       ]
      },
      {
       "output_type": "stream",
       "stream": "stdout",
       "text": [
        "\n",
        "Hello Write my Name Here"
       ]
      },
      {
       "output_type": "stream",
       "stream": "stdout",
       "text": [
        "\n",
        "Hello Write my Name Here"
       ]
      },
      {
       "output_type": "stream",
       "stream": "stdout",
       "text": [
        "\n",
        "Hello Write my Name Here"
       ]
      },
      {
       "output_type": "stream",
       "stream": "stdout",
       "text": [
        "\n",
        "Hello Write my Name Here"
       ]
      },
      {
       "output_type": "stream",
       "stream": "stdout",
       "text": [
        "\n",
        "Hello Write my Name Here"
       ]
      },
      {
       "output_type": "stream",
       "stream": "stdout",
       "text": [
        "\n",
        "Hello Leo"
       ]
      },
      {
       "output_type": "stream",
       "stream": "stdout",
       "text": [
        "\n",
        "Hello Leo"
       ]
      },
      {
       "output_type": "stream",
       "stream": "stdout",
       "text": [
        "\n",
        "Hello Leo"
       ]
      },
      {
       "output_type": "stream",
       "stream": "stdout",
       "text": [
        "\n",
        "Hello Leo"
       ]
      },
      {
       "output_type": "stream",
       "stream": "stdout",
       "text": [
        "\n",
        "Hello Leo"
       ]
      },
      {
       "output_type": "stream",
       "stream": "stdout",
       "text": [
        "\n",
        "Hello Leo"
       ]
      },
      {
       "output_type": "stream",
       "stream": "stdout",
       "text": [
        "\n",
        "Hello Leo"
       ]
      },
      {
       "output_type": "stream",
       "stream": "stdout",
       "text": [
        "\n",
        "Hello Leo"
       ]
      },
      {
       "output_type": "stream",
       "stream": "stdout",
       "text": [
        "\n",
        "Hello Leo"
       ]
      },
      {
       "output_type": "stream",
       "stream": "stdout",
       "text": [
        "\n",
        "Hello Leo"
       ]
      },
      {
       "output_type": "stream",
       "stream": "stdout",
       "text": [
        "\n",
        "Hello Leo"
       ]
      },
      {
       "output_type": "stream",
       "stream": "stdout",
       "text": [
        "\n",
        "Hello Leo"
       ]
      },
      {
       "output_type": "stream",
       "stream": "stdout",
       "text": [
        "\n"
       ]
      },
      {
       "ename": "SystemExit",
       "evalue": "",
       "output_type": "pyerr",
       "traceback": [
        "An exception has occurred, use %tb to see the full traceback.\n",
        "\u001b[1;31mSystemExit\u001b[0m\n"
       ]
      },
      {
       "output_type": "stream",
       "stream": "stderr",
       "text": [
        "To exit: use 'exit', 'quit', or Ctrl-D.\n"
       ]
      }
     ],
     "prompt_number": 43
    },
    {
     "cell_type": "code",
     "collapsed": false,
     "input": [
      "import matplotlib.pyplot as plt\n",
      "import numpy as np"
     ],
     "language": "python",
     "metadata": {},
     "outputs": [],
     "prompt_number": 16
    },
    {
     "cell_type": "code",
     "collapsed": false,
     "input": [
      "a = 0\n",
      "def testPlot():\n",
      "    a = 12\n",
      "    a += 1\n",
      "    print a"
     ],
     "language": "python",
     "metadata": {},
     "outputs": [],
     "prompt_number": 35
    },
    {
     "cell_type": "code",
     "collapsed": false,
     "input": [
      "%run icon.py"
     ],
     "language": "python",
     "metadata": {},
     "outputs": [],
     "prompt_number": 3
    },
    {
     "cell_type": "code",
     "collapsed": false,
     "input": [
      "whos"
     ],
     "language": "python",
     "metadata": {},
     "outputs": [
      {
       "output_type": "stream",
       "stream": "stdout",
       "text": [
        "Variable   Type          Data/Info\n",
        "----------------------------------\n",
        "Example    ObjectType    <class '__main__.Example'>\n",
        "QtGui      module        <module 'PySide.QtGui' fr<...>ackages/PySide/QtGui.so'>\n",
        "main       function      <function main at 0x1ed10c8>\n",
        "sys        module        <module 'sys' (built-in)>\n"
       ]
      }
     ],
     "prompt_number": 4
    },
    {
     "cell_type": "code",
     "collapsed": false,
     "input": [
      "whos"
     ],
     "language": "python",
     "metadata": {},
     "outputs": [
      {
       "output_type": "stream",
       "stream": "stdout",
       "text": [
        "Variable   Type      Data/Info\n",
        "------------------------------\n",
        "QtCore     module    <module 'PySide.QtCore' f<...>kages\\PySide\\QtCore.pyd'>\n",
        "QtGui      module    <module 'PySide.QtGui' fr<...>ckages\\PySide\\QtGui.pyd'>\n",
        "sys        module    <module 'sys' (built-in)>\n"
       ]
      }
     ],
     "prompt_number": 4
    },
    {
     "cell_type": "code",
     "collapsed": false,
     "input": [],
     "language": "python",
     "metadata": {},
     "outputs": []
    }
   ],
   "metadata": {}
  }
 ]
}