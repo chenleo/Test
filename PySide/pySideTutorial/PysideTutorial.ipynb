{
 "metadata": {
  "name": "",
  "signature": "sha256:a0c10d6e641db639e639908329afc8f8ca75f6093db6c0b3aa8331e7d3fb73a3"
 },
 "nbformat": 3,
 "nbformat_minor": 0,
 "worksheets": [
  {
   "cells": [
    {
     "cell_type": "markdown",
     "metadata": {},
     "source": [
      "[Ref](http://zetcode.com/gui/pysidetutorial/)"
     ]
    },
    {
     "cell_type": "code",
     "collapsed": false,
     "input": [
      "import sys\n",
      "from PySide import QtGui, QtCore"
     ],
     "language": "python",
     "metadata": {},
     "outputs": [],
     "prompt_number": 1
    },
    {
     "cell_type": "code",
     "collapsed": false,
     "input": [
      "app = QtGui.QApplication(sys.argv)"
     ],
     "language": "python",
     "metadata": {},
     "outputs": [],
     "prompt_number": 2
    },
    {
     "cell_type": "code",
     "collapsed": false,
     "input": [
      "%%writefile ch3LayoutReview.py\n",
      "import sys\n",
      "from PySide import QtGui\n",
      "\n",
      "class Example(QtGui.QWidget):\n",
      "    \n",
      "    def __init__(self):\n",
      "        super(Example, self).__init__()\n",
      "        \n",
      "        self.initUI()\n",
      "        \n",
      "    def initUI(self):\n",
      "        \n",
      "        title = QtGui.QLabel('Title')\n",
      "        author = QtGui.QLabel('Author')\n",
      "        review = QtGui.QLabel('Review')\n",
      "\n",
      "        titleEdit = QtGui.QLineEdit()\n",
      "        authorEdit = QtGui.QLineEdit()\n",
      "        reviewEdit = QtGui.QTextEdit()\n",
      "\n",
      "        grid = QtGui.QGridLayout()\n",
      "        grid.setSpacing(10)\n",
      "\n",
      "        grid.addWidget(title, 1, 0)\n",
      "        grid.addWidget(titleEdit, 1, 1)\n",
      "\n",
      "        grid.addWidget(author, 2, 0)\n",
      "        grid.addWidget(authorEdit, 2, 1)\n",
      "\n",
      "        grid.addWidget(review, 3, 0)\n",
      "        grid.addWidget(reviewEdit, 3, 1, 5, 1)\n",
      "        \n",
      "        self.setLayout(grid) \n",
      "        \n",
      "        self.setGeometry(300, 300, 350, 300)\n",
      "        self.setWindowTitle('Review')    \n",
      "        self.show()\n",
      "        \n",
      "def main():\n",
      "    \n",
      "    app = QtGui.QApplication(sys.argv)\n",
      "    ex = Example()\n",
      "    sys.exit(app.exec_())\n",
      "\n",
      "\n",
      "if __name__ == '__main__':\n",
      "    main()"
     ],
     "language": "python",
     "metadata": {},
     "outputs": [
      {
       "output_type": "stream",
       "stream": "stdout",
       "text": [
        "Writing ch3LayoutReview.py\n"
       ]
      }
     ],
     "prompt_number": 48
    },
    {
     "cell_type": "code",
     "collapsed": false,
     "input": [
      "#test\n",
      "#testExitAction = QtGui.QAction(QtGui.QIcon(\"exit.png\"), \"Exit\")\n",
      "testMainWindow = QtGui.QMainWindow()\n",
      "testMainWindow.keyPressEvent(self, e)"
     ],
     "language": "python",
     "metadata": {},
     "outputs": [
      {
       "ename": "SyntaxError",
       "evalue": "invalid syntax (<ipython-input-4-5eda62ed6951>, line 4)",
       "output_type": "pyerr",
       "traceback": [
        "\u001b[1;36m  File \u001b[1;32m\"<ipython-input-4-5eda62ed6951>\"\u001b[1;36m, line \u001b[1;32m4\u001b[0m\n\u001b[1;33m    testMainWindow.keyPressEvent(self, e):\u001b[0m\n\u001b[1;37m                                         ^\u001b[0m\n\u001b[1;31mSyntaxError\u001b[0m\u001b[1;31m:\u001b[0m invalid syntax\n"
       ]
      }
     ],
     "prompt_number": 4
    },
    {
     "cell_type": "code",
     "collapsed": false,
     "input": [
      "testMainWindow.show()\n",
      "#okButton.show()\n",
      "app.exec_()\n",
      "sys.exit()"
     ],
     "language": "python",
     "metadata": {},
     "outputs": [
      {
       "ename": "SystemExit",
       "evalue": "",
       "output_type": "pyerr",
       "traceback": [
        "An exception has occurred, use %tb to see the full traceback.\n",
        "\u001b[1;31mSystemExit\u001b[0m\n"
       ]
      },
      {
       "output_type": "stream",
       "stream": "stderr",
       "text": [
        "To exit: use 'exit', 'quit', or Ctrl-D.\n"
       ]
      }
     ],
     "prompt_number": 47
    },
    {
     "cell_type": "code",
     "collapsed": false,
     "input": [
      "testWidget = QtGui.QWidget()\n",
      "testWidget.setGeometry"
     ],
     "language": "python",
     "metadata": {},
     "outputs": [
      {
       "ename": "NameError",
       "evalue": "name 'QtGui' is not defined",
       "output_type": "pyerr",
       "traceback": [
        "\u001b[0;31m---------------------------------------------------------------------------\u001b[0m\n\u001b[0;31mNameError\u001b[0m                                 Traceback (most recent call last)",
        "\u001b[0;32m<ipython-input-1-44c3d0f139d0>\u001b[0m in \u001b[0;36m<module>\u001b[0;34m()\u001b[0m\n\u001b[0;32m----> 1\u001b[0;31m \u001b[0mtestWidget\u001b[0m \u001b[0;34m=\u001b[0m \u001b[0mQtGui\u001b[0m\u001b[0;34m.\u001b[0m\u001b[0mQWidget\u001b[0m\u001b[0;34m(\u001b[0m\u001b[0;34m)\u001b[0m\u001b[0;34m\u001b[0m\u001b[0m\n\u001b[0m\u001b[1;32m      2\u001b[0m \u001b[0mtestWidget\u001b[0m\u001b[0;34m.\u001b[0m\u001b[0msetGeometry\u001b[0m\u001b[0;34m\u001b[0m\u001b[0m\n",
        "\u001b[0;31mNameError\u001b[0m: name 'QtGui' is not defined"
       ]
      }
     ],
     "prompt_number": 1
    },
    {
     "cell_type": "code",
     "collapsed": false,
     "input": [
      "%run ch2Together.py"
     ],
     "language": "python",
     "metadata": {},
     "outputs": [],
     "prompt_number": 1
    },
    {
     "cell_type": "code",
     "collapsed": false,
     "input": [
      "%run ch3LayoutReview.py"
     ],
     "language": "python",
     "metadata": {},
     "outputs": [],
     "prompt_number": 2
    },
    {
     "cell_type": "code",
     "collapsed": false,
     "input": [
      "import sys\n",
      "from PySide import QtGui\n",
      "\n",
      "class Example(QtGui.QWidget):\n",
      "    \n",
      "    def __init__(self):\n",
      "        super(Example, self).__init__()\n",
      "        \n",
      "        self.initUI()\n",
      "        \n",
      "    def initUI(self):\n",
      "        \n",
      "        title = QtGui.QLabel('Title')\n",
      "        author = QtGui.QLabel('Author')\n",
      "        review = QtGui.QLabel('Review')\n",
      "\n",
      "        titleEdit = QtGui.QLineEdit()\n",
      "        authorEdit = QtGui.QLineEdit()\n",
      "        reviewEdit = QtGui.QTextEdit()\n",
      "\n",
      "        grid = QtGui.QGridLayout()\n",
      "        grid.setSpacing(10)\n",
      "\n",
      "        grid.addWidget(title, 1, 0)\n",
      "        grid.addWidget(titleEdit, 1, 1)\n",
      "\n",
      "        grid.addWidget(author, 2, 0)\n",
      "        grid.addWidget(authorEdit, 2, 1)\n",
      "\n",
      "        grid.addWidget(review, 3, 0)\n",
      "        grid.addWidget(reviewEdit, 3, 1, 5, 1)\n",
      "        \n",
      "        self.setLayout(grid) \n",
      "        \n",
      "        self.setGeometry(300, 300, 350, 300)\n",
      "        self.setWindowTitle('Review')    \n",
      "        self.show()\n",
      "        \n",
      "def main():\n",
      "    \n",
      "    app = QtGui.QApplication(sys.argv)\n",
      "    ex = Example()\n",
      "    sys.exit(app.exec_())\n",
      "\n",
      "\n",
      "if __name__ == '__main__':\n",
      "    main()"
     ],
     "language": "python",
     "metadata": {},
     "outputs": []
    },
    {
     "cell_type": "code",
     "collapsed": false,
     "input": [
      "import sys\n",
      "from PySide import QtCore, QtGui\n",
      "\n",
      "class Example(QtGui.QMainWindow):\n",
      "    \n",
      "    def __init__(self, parent = None):\n",
      "        super(Example,self).__init__(parent)\n",
      "        self.initUI()\n",
      "    \n",
      "    def initUI(self):               \n",
      "        \n",
      "        textEdit = QtGui.QTextEdit()\n",
      "        self.setCentralWidget(textEdit)\n",
      "\n",
      "        exitAction = QtGui.QAction('Exit', self)\n",
      "        exitAction.setShortcut('Ctrl+Q')\n",
      "        exitAction.setStatusTip('Exit application')\n",
      "        exitAction.triggered.connect(self.close)\n",
      "\n",
      "        self.statusBar()\n",
      "\n",
      "        menubar = self.menuBar()\n",
      "        fileMenu = menubar.addMenu('&File')\n",
      "        fileMenu.addAction(exitAction)\n",
      "\n",
      "        toolbar = self.addToolBar('Exit')\n",
      "        toolbar.addAction(exitAction)\n",
      "        \n",
      "        self.setGeometry(300, 300, 350, 250)\n",
      "        self.setWindowTitle('Main window')    \n",
      "        self.show()\n",
      "\n",
      "def main():\n",
      "    app = QtGui.QApplication(sys.argv)\n",
      "    ex = Example()\n",
      "    app.exec_()\n",
      "    sys.exit()\n",
      "\n",
      "if __name__ == \"__main__\":\n",
      "    main()"
     ],
     "language": "python",
     "metadata": {},
     "outputs": []
    },
    {
     "cell_type": "markdown",
     "metadata": {},
     "source": [
      "# Others"
     ]
    },
    {
     "cell_type": "code",
     "collapsed": false,
     "input": [
      "%matplotlib inline\n",
      "import numpy as np\n",
      "import matplotlib.pyplot as plt"
     ],
     "language": "python",
     "metadata": {},
     "outputs": [],
     "prompt_number": 5
    },
    {
     "cell_type": "code",
     "collapsed": false,
     "input": [
      "plt.plot(np.random.rand(100),np.random.rand(100),\"ro\")\n",
      "plt.savefig(\"exit.png\")"
     ],
     "language": "python",
     "metadata": {},
     "outputs": [
      {
       "metadata": {},
       "output_type": "display_data",
       "png": "[encoded data removed]",
       "text": [
        "<matplotlib.figure.Figure at 0x4471950>"
       ]
      }
     ],
     "prompt_number": 6
    },
    {
     "cell_type": "code",
     "collapsed": false,
     "input": [
      "from IPython.display import Image"
     ],
     "language": "python",
     "metadata": {},
     "outputs": [],
     "prompt_number": 3
    },
    {
     "cell_type": "code",
     "collapsed": false,
     "input": [
      "Image(\"icon.png\")"
     ],
     "language": "python",
     "metadata": {},
     "outputs": [
      {
       "metadata": {},
       "output_type": "pyout",
       "png": "[encoded data removed]",
       "prompt_number": 4,
       "text": [
        "<IPython.core.display.Image object>"
       ]
      }
     ],
     "prompt_number": 4
    },
    {
     "cell_type": "code",
     "collapsed": false,
     "input": [
      "import site"
     ],
     "language": "python",
     "metadata": {},
     "outputs": [],
     "prompt_number": 2
    },
    {
     "cell_type": "code",
     "collapsed": false,
     "input": [
      "site.getsitepackages()"
     ],
     "language": "python",
     "metadata": {},
     "outputs": [
      {
       "metadata": {},
       "output_type": "pyout",
       "prompt_number": 3,
       "text": [
        "['/home/chen/anaconda/lib/python2.7/site-packages',\n",
        " '/home/chen/anaconda/lib/site-python']"
       ]
      }
     ],
     "prompt_number": 3
    },
    {
     "cell_type": "code",
     "collapsed": false,
     "input": [
      ">>> a, b = 0, 1\n",
      ">>> while b < 1000:\n",
      "...     print b,\n",
      "...     a, b = b, a+b"
     ],
     "language": "python",
     "metadata": {},
     "outputs": [
      {
       "output_type": "stream",
       "stream": "stdout",
       "text": [
        "1 1 2 3 5 8 13 21 34 55 89 144 233 377 610 987\n"
       ]
      }
     ],
     "prompt_number": 4
    },
    {
     "cell_type": "code",
     "collapsed": false,
     "input": [
      "def test(listCase):\n",
      "    for i in listCase:\n",
      "        yield i"
     ],
     "language": "python",
     "metadata": {},
     "outputs": [],
     "prompt_number": 5
    },
    {
     "cell_type": "code",
     "collapsed": false,
     "input": [
      "L = [1,2,3,4,5,6]"
     ],
     "language": "python",
     "metadata": {},
     "outputs": [],
     "prompt_number": 6
    },
    {
     "cell_type": "code",
     "collapsed": false,
     "input": [
      "test(L)"
     ],
     "language": "python",
     "metadata": {},
     "outputs": [
      {
       "metadata": {},
       "output_type": "pyout",
       "prompt_number": 7,
       "text": [
        "<generator object test at 0x14bda50>"
       ]
      }
     ],
     "prompt_number": 7
    },
    {
     "cell_type": "code",
     "collapsed": false,
     "input": [
      "k = test(L)"
     ],
     "language": "python",
     "metadata": {},
     "outputs": [],
     "prompt_number": 8
    },
    {
     "cell_type": "code",
     "collapsed": false,
     "input": [
      "k.next()"
     ],
     "language": "python",
     "metadata": {},
     "outputs": [
      {
       "metadata": {},
       "output_type": "pyout",
       "prompt_number": 13,
       "text": [
        "5"
       ]
      }
     ],
     "prompt_number": 13
    },
    {
     "cell_type": "code",
     "collapsed": false,
     "input": [
      "raw_input()"
     ],
     "language": "python",
     "metadata": {},
     "outputs": [
      {
       "name": "stdout",
       "output_type": "stream",
       "stream": "stdout",
       "text": [
        "12\n"
       ]
      },
      {
       "metadata": {},
       "output_type": "pyout",
       "prompt_number": 15,
       "text": [
        "'12'"
       ]
      }
     ],
     "prompt_number": 15
    },
    {
     "cell_type": "code",
     "collapsed": false,
     "input": [
      "from collections import "
     ],
     "language": "python",
     "metadata": {},
     "outputs": []
    },
    {
     "cell_type": "code",
     "collapsed": false,
     "input": [
      "import sys"
     ],
     "language": "python",
     "metadata": {},
     "outputs": [],
     "prompt_number": 16
    },
    {
     "cell_type": "code",
     "collapsed": false,
     "input": [
      "sys.path"
     ],
     "language": "python",
     "metadata": {},
     "outputs": [
      {
       "metadata": {},
       "output_type": "pyout",
       "prompt_number": 17,
       "text": [
        "['',\n",
        " '/home/chen/anaconda/lib/python27.zip',\n",
        " '/home/chen/anaconda/lib/python2.7',\n",
        " '/home/chen/anaconda/lib/python2.7/plat-linux2',\n",
        " '/home/chen/anaconda/lib/python2.7/lib-tk',\n",
        " '/home/chen/anaconda/lib/python2.7/lib-old',\n",
        " '/home/chen/anaconda/lib/python2.7/lib-dynload',\n",
        " '/home/chen/anaconda/lib/python2.7/site-packages',\n",
        " '/home/chen/anaconda/lib/python2.7/site-packages/PIL',\n",
        " '/home/chen/anaconda/lib/python2.7/site-packages/setuptools-3.6-py2.7.egg',\n",
        " '/home/chen/anaconda/lib/python2.7/site-packages/IPython/extensions',\n",
        " '/home/chen/.ipython']"
       ]
      }
     ],
     "prompt_number": 17
    },
    {
     "cell_type": "code",
     "collapsed": false,
     "input": [
      "sys.ps3"
     ],
     "language": "python",
     "metadata": {},
     "outputs": [
      {
       "metadata": {},
       "output_type": "pyout",
       "prompt_number": 20,
       "text": [
        "'Out: '"
       ]
      }
     ],
     "prompt_number": 20
    },
    {
     "cell_type": "code",
     "collapsed": false,
     "input": [],
     "language": "python",
     "metadata": {},
     "outputs": []
    }
   ],
   "metadata": {}
  }
 ]
}