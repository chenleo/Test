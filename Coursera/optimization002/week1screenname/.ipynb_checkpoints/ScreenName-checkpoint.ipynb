{
 "metadata": {
  "name": ""
 },
 "nbformat": 3,
 "nbformat_minor": 0,
 "worksheets": [
  {
   "cells": [
    {
     "cell_type": "markdown",
     "metadata": {},
     "source": [
      "# Screen Name"
     ]
    },
    {
     "cell_type": "code",
     "collapsed": false,
     "input": [
      "import solver"
     ],
     "language": "python",
     "metadata": {},
     "outputs": [],
     "prompt_number": 1
    },
    {
     "cell_type": "code",
     "collapsed": false,
     "input": [
      "dir(solver)"
     ],
     "language": "python",
     "metadata": {},
     "outputs": [
      {
       "metadata": {},
       "output_type": "pyout",
       "prompt_number": 2,
       "text": [
        "['__builtins__', '__doc__', '__file__', '__name__', '__package__', 'solve_it']"
       ]
      }
     ],
     "prompt_number": 2
    },
    {
     "cell_type": "code",
     "collapsed": false,
     "input": [
      "%load solver"
     ],
     "language": "python",
     "metadata": {},
     "outputs": [],
     "prompt_number": 1
    },
    {
     "cell_type": "code",
     "collapsed": false,
     "input": [
      "#!/usr/bin/python\n",
      "\n",
      "def solve_it():\n",
      "    # return a string that is the screen name you would like\n",
      "    return 'Leo Chen'\n",
      "\n",
      "if __name__ == '__main__':\n",
      "    print 'This script submits the screen name: ' + solve_it() + '\\n'"
     ],
     "language": "python",
     "metadata": {},
     "outputs": []
    },
    {
     "cell_type": "code",
     "collapsed": false,
     "input": [
      "%%writefile solver.py\n",
      "#!/usr/bin/python\n",
      "\n",
      "def solve_it():\n",
      "    # return a string that is the screen name you would like\n",
      "    return 'Leo Chen'\n",
      "\n",
      "if __name__ == '__main__':\n",
      "    print 'This script submits the screen name: ' + solve_it() + '\\n'"
     ],
     "language": "python",
     "metadata": {},
     "outputs": [
      {
       "output_type": "stream",
       "stream": "stdout",
       "text": [
        "Overwriting solver.py\n"
       ]
      }
     ],
     "prompt_number": 13
    },
    {
     "cell_type": "code",
     "collapsed": false,
     "input": [
      "run solver.py"
     ],
     "language": "python",
     "metadata": {},
     "outputs": [
      {
       "output_type": "stream",
       "stream": "stdout",
       "text": [
        "This script submits the screen name: Leo Chen\n",
        "\n"
       ]
      }
     ],
     "prompt_number": 14
    },
    {
     "cell_type": "code",
     "collapsed": false,
     "input": [
      "run submit.py"
     ],
     "language": "python",
     "metadata": {},
     "outputs": [
      {
       "output_type": "stream",
       "stream": "stdout",
       "text": [
        "==\n",
        "== Screen Name Submission \n",
        "==\n"
       ]
      },
      {
       "name": "stdout",
       "output_type": "stream",
       "stream": "stdout",
       "text": [
        "Login (Email address): maverickcc@gmail.com\n"
       ]
      },
      {
       "name": "stdout",
       "output_type": "stream",
       "stream": "stdout",
       "text": [
        "Submission Password (from the programming assignments page. This is NOT your own account's password): ctCYcg45YV\n"
       ]
      },
      {
       "output_type": "stream",
       "stream": "stdout",
       "text": [
        "\n",
        "== Connecting to Coursera ... \n",
        "== Checking Login Credentials ... \n",
        "== credentials verified"
       ]
      },
      {
       "output_type": "stream",
       "stream": "stdout",
       "text": [
        "\n",
        "Submitting: "
       ]
      },
      {
       "output_type": "stream",
       "stream": "stdout",
       "text": [
        "\n",
        "Leo Chen\n",
        "== Your submission has been accepted and will be graded shortly."
       ]
      },
      {
       "output_type": "stream",
       "stream": "stdout",
       "text": [
        "\n"
       ]
      }
     ],
     "prompt_number": 2
    },
    {
     "cell_type": "code",
     "collapsed": false,
     "input": [
      "#!/usr/bin/python\n",
      "\n",
      "import urllib\n",
      "import urllib2\n",
      "import hashlib\n",
      "import email.message\n",
      "import email.encoders\n",
      "\n",
      "import time\n",
      "from collections import namedtuple\n",
      "\n",
      "Metadata = namedtuple(\"Metadata\", ['url', 'name', 'part_data'])\n",
      "Part = namedtuple(\"Part\", ['sid', 'input_file', 'source', 'name'])\n",
      "\n",
      "def check_login(metadata, login, password):\n",
      "    sid = 'B5DXTczU-dev'\n",
      "    submission = '0'\n",
      "    source = ''\n",
      "\n",
      "    print '== Checking Login Credentials ... '\n",
      "    (login, ch, state, ch_aux) = get_challenge(metadata.url, login, sid)\n",
      "    if((not login) or (not ch) or (not state)):\n",
      "        print '\\n!! Error: %s\\n' % login\n",
      "        return\n",
      "    ch_resp = challenge_response(login, password, ch)\n",
      "    (result, string) = submit_solution(metadata.url, login, ch_resp, sid, submission, source, state, ch_aux)\n",
      "    if string.strip() == 'password verified':\n",
      "        print '== credentials verified'\n",
      "    else :\n",
      "        print '\\n!! login failed'\n",
      "        print '== %s' % string.strip()\n",
      "        quit()\n",
      "\n",
      "\n",
      "def load_meta_data():\n",
      "    try:\n",
      "        metadata_file = open('_metadata', 'r')\n",
      "        \n",
      "        url = metadata_file.readline().strip()\n",
      "        name = metadata_file.readline().strip()\n",
      "        part_count = int(metadata_file.readline().strip())\n",
      "        part_data = []\n",
      "        for i in range(0,part_count):\n",
      "            line = metadata_file.readline().strip()\n",
      "            line_parts = line.split(',')\n",
      "            line_parts = [x.strip() for x in line_parts]\n",
      "            assert(len(line_parts) == 4)\n",
      "            part_data.append(Part(*line_parts))\n",
      "            \n",
      "        metadata_file.close()\n",
      "    except Exception, e:\n",
      "        print 'problem parsing assignment metadata file'\n",
      "        print 'exception message:'\n",
      "        print e\n",
      "        quit()\n",
      "    return Metadata(url, name, part_data)\n",
      "    \n",
      "    \n",
      "def submit():\n",
      "    metadata = load_meta_data()\n",
      "    #print metadata\n",
      "    \n",
      "    print '==\\n==',metadata.name,'Submission \\n=='\n",
      "\n",
      "    (login, password) = login_prompt()\n",
      "    if not login:\n",
      "        print '!! Submission Cancelled'\n",
      "        return\n",
      "    \n",
      "    print '\\n== Connecting to Coursera ... '\n",
      "    check_login(metadata, login, password)\n",
      "    \n",
      "    selected_parts = set(metadata.part_data)\n",
      "    \n",
      "    for part in selected_parts:\n",
      "        (login, ch, state, ch_aux) = get_challenge(metadata.url, login, part.sid)\n",
      "        if not login or not ch or not state:\n",
      "            print '\\n!! Error: %s\\n' % login\n",
      "            return\n",
      "        submission = output(part)\n",
      "\n",
      "        ch_resp = challenge_response(login, password, ch)\n",
      "        (result, string) = submit_solution(metadata.url, login, ch_resp, part.sid, submission, get_source(part.source), state, ch_aux)\n",
      "\n",
      "        print '== %s' % string.strip()\n",
      "\n",
      "\n",
      "def login_prompt():\n",
      "    \"\"\"Prompt the user for login credentials. Returns a tuple (login, password).\"\"\"\n",
      "    (login, password) = basic_prompt()\n",
      "    return (login, password)\n",
      "\n",
      "\n",
      "def basic_prompt():\n",
      "    \"\"\"Prompt the user for login credentials. Returns a tuple (login, password).\"\"\"\n",
      "    login = raw_input('Login (Email address): ')\n",
      "    password = raw_input('Submission Password (from the programming assignments page. This is NOT your own account\\'s password): ')\n",
      "    return (login, password)\n",
      "\n",
      "\n",
      "def part_prompt(parts):\n",
      "    print 'Hello! These are the assignment parts that you can submit:'\n",
      "    for i, part in enumerate(parts):\n",
      "        print str(i+1) + ') ' + part.name\n",
      "    print '0) All'\n",
      "\n",
      "    part_text = raw_input('Please enter which part(s) you want to submit (0-'+ str(len(parts)) + '): ')\n",
      "    selected_parts = []\n",
      "\n",
      "    for item in part_text.split(','):\n",
      "        try:\n",
      "            i = int(item) - 1\n",
      "        except:\n",
      "            print 'Skipping input \"' + item + '\".  It is not an integer.'\n",
      "            continue\n",
      "        if i >= len(parts):\n",
      "            print 'Skipping input \"' + item + '\".  It is out of range (the maximum value is ' + str(len(parts)) + ').'\n",
      "            continue\n",
      "        if i < 0:\n",
      "            selected_parts.extend(parts)\n",
      "        else:\n",
      "            selected_parts.append(parts[i])\n",
      "\n",
      "    if len(selected_parts) <= 0:\n",
      "        print 'No valid assignment parts identified.  Please try again. \\n'\n",
      "        return part_prompt(parts)\n",
      "    else:\n",
      "        return selected_parts\n",
      "\n",
      "\n",
      "def get_challenge(c_url, email, sid):\n",
      "    \"\"\"Gets the challenge salt from the server. Returns (email,ch,state,ch_aux).\"\"\"\n",
      "\n",
      "    url = challenge_url(c_url)\n",
      "    values = {'email_address': email, 'assignment_part_sid': sid, 'response_encoding': 'delim'}\n",
      "    data = urllib.urlencode(values)\n",
      "    req = urllib2.Request(url, data)\n",
      "    response = urllib2.urlopen(req)\n",
      "    text = response.read().strip()\n",
      "\n",
      "    splits = text.split('|')\n",
      "    if len(splits) != 9:\n",
      "        print 'Badly formatted challenge response: %s' % text\n",
      "        return None\n",
      "    return (splits[2], splits[4], splits[6], splits[8])\n",
      "\n",
      "\n",
      "def challenge_response(email, passwd, challenge):\n",
      "    sha1 = hashlib.sha1()\n",
      "    sha1.update(''.join([challenge, passwd])) \n",
      "    digest = sha1.hexdigest()\n",
      "    strAnswer = ''\n",
      "    for i in range(0, len(digest)):\n",
      "        strAnswer = strAnswer + digest[i]\n",
      "    return strAnswer\n",
      "\n",
      "\n",
      "def challenge_url(url):\n",
      "    \"\"\"Returns the challenge url.\"\"\"\n",
      "    return 'https://class.coursera.org/' + url + '/assignment/challenge'\n",
      "\n",
      "\n",
      "def submit_url(url):\n",
      "    \"\"\"Returns the submission url.\"\"\"\n",
      "    return 'https://class.coursera.org/' + url + '/assignment/submit'\n",
      "\n",
      "\n",
      "def submit_solution(c_url, email_address, ch_resp, sid, output, source, state, ch_aux):\n",
      "    \"\"\"Submits a solution to the server. Returns (result, string).\"\"\"\n",
      "    source_64_msg = email.message.Message()\n",
      "    source_64_msg.set_payload(source)\n",
      "    email.encoders.encode_base64(source_64_msg)\n",
      "\n",
      "    output_64_msg = email.message.Message()\n",
      "    output_64_msg.set_payload(output)\n",
      "    email.encoders.encode_base64(output_64_msg)\n",
      "    values = { \n",
      "        'assignment_part_sid': sid,\n",
      "        'email_address': email_address,\n",
      "        # 'submission' : output, \\\n",
      "        'submission': output_64_msg.get_payload(),\n",
      "        # 'submission_aux' : source, \\\n",
      "        'submission_aux': source_64_msg.get_payload(),\n",
      "        'challenge_response': ch_resp,\n",
      "        'state': state,\n",
      "        }\n",
      "    url = submit_url(c_url)\n",
      "    data = urllib.urlencode(values)\n",
      "    req = urllib2.Request(url, data)\n",
      "    response = urllib2.urlopen(req)\n",
      "    string = response.read().strip()\n",
      "    result = 0\n",
      "    return (result, string)\n",
      "\n",
      "\n",
      "def get_source(source_file):\n",
      "    \"\"\"Collects the source code (just for logging purposes).\"\"\"\n",
      "    f = open(source_file,'r')\n",
      "    src = f.read()\n",
      "    f.close()\n",
      "    return src\n",
      "\n",
      "\n",
      "try:\n",
      "    pkg = __import__('solver')\n",
      "    if not hasattr(pkg, 'solve_it'):\n",
      "        print 'the solve_it() function was not found in solver.py'\n",
      "        quit()\n",
      "    solve_it = pkg.solve_it\n",
      "except ImportError:\n",
      "    print 'solver.py was not found in the python path.'\n",
      "    quit()\n",
      "\n",
      "\n",
      "def output(part):\n",
      "    \"\"\"Use student code to compute the output for test cases.\"\"\"\n",
      "\n",
      "    solution = ''\n",
      "\n",
      "    start = time.clock()\n",
      "    try:\n",
      "        solution = solve_it()\n",
      "    except Exception, e:\n",
      "        print 'the solve_it() method from solver.py raised an exception'\n",
      "        print 'try testing it with python ./solver.py before running this submission script'\n",
      "        print 'exception message:'\n",
      "        print e\n",
      "        print ''\n",
      "        return 'Local Exception =('\n",
      "    end = time.clock()\n",
      "\n",
      "    if not isinstance(solution, str):\n",
      "        print 'Warning: the submitted solution was not ASCII and will be converted.  Some information may be lost.'\n",
      "        print 'Orginal: '\n",
      "        print solution\n",
      "        solution = solution.encode('ascii', 'ignore')\n",
      "\n",
      "    print 'Submitting: '\n",
      "    print solution\n",
      "\n",
      "    return solution.strip()\n",
      "\n",
      "\n",
      "submit()\n"
     ],
     "language": "python",
     "metadata": {},
     "outputs": []
    },
    {
     "cell_type": "code",
     "collapsed": false,
     "input": [
      "import submit"
     ],
     "language": "python",
     "metadata": {},
     "outputs": [],
     "prompt_number": 17
    },
    {
     "cell_type": "code",
     "collapsed": false,
     "input": [
      "submit.solve_it??"
     ],
     "language": "python",
     "metadata": {},
     "outputs": [],
     "prompt_number": 16
    },
    {
     "cell_type": "code",
     "collapsed": false,
     "input": [
      "submit.submit()"
     ],
     "language": "python",
     "metadata": {},
     "outputs": [
      {
       "output_type": "stream",
       "stream": "stdout",
       "text": [
        "==\n",
        "== Screen Name Submission \n",
        "==\n"
       ]
      }
     ],
     "prompt_number": "*"
    },
    {
     "cell_type": "code",
     "collapsed": false,
     "input": [],
     "language": "python",
     "metadata": {},
     "outputs": []
    }
   ],
   "metadata": {}
  }
 ]
}