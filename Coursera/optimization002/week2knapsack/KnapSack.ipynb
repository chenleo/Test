{
 "metadata": {
  "name": ""
 },
 "nbformat": 3,
 "nbformat_minor": 0,
 "worksheets": [
  {
   "cells": [
    {
     "cell_type": "markdown",
     "metadata": {},
     "source": [
      "# KnapSack"
     ]
    },
    {
     "cell_type": "code",
     "collapsed": false,
     "input": [
      "%load solverJava.py"
     ],
     "language": "python",
     "metadata": {},
     "outputs": [],
     "prompt_number": 4
    },
    {
     "cell_type": "code",
     "collapsed": false,
     "input": [
      "#!/usr/bin/python\n",
      "\n",
      "import os\n",
      "from subprocess import Popen, PIPE\n",
      "\n",
      "def solve_it(input_data):\n",
      "\n",
      "    # Writes the inputData to a temporay file\n",
      "\n",
      "    tmp_file_name = 'tmp.data'\n",
      "    tmp_file = open(tmp_file_name, 'w')\n",
      "    tmp_file.write(input_data)\n",
      "    tmp_file.close()\n",
      "\n",
      "    # Runs the command: java Solver -file=tmp.data\n",
      "\n",
      "    process = Popen(['java', 'Solver', '-file=' + tmp_file_name], stdout=PIPE)\n",
      "    (stdout, stderr) = process.communicate()\n",
      "\n",
      "    # removes the temporay file\n",
      "    os.remove(tmp_file_name)\n",
      "\n",
      "    return stdout.strip()\n",
      "\n",
      "\n",
      "import sys\n",
      "\n",
      "if __name__ == '__main__':\n",
      "    if len(sys.argv) > 1:\n",
      "        file_location = sys.argv[1].strip()\n",
      "        input_data_file = open(file_location, 'r')\n",
      "        input_data = ''.join(input_data_file.readlines())\n",
      "        input_data_file.close()\n",
      "        print solve_it(input_data)\n",
      "    else:\n",
      "        print 'This test requires an input file.  Please select one from the data directory. (i.e. python solver.py ./data/ks_4_0)'\n",
      "\n"
     ],
     "language": "python",
     "metadata": {},
     "outputs": []
    },
    {
     "cell_type": "code",
     "collapsed": false,
     "input": [
      "#!/usr/bin/python\n",
      "\n",
      "from collections import namedtuple\n",
      "Item = namedtuple(\"Item\", ['index', 'value', 'weight'])\n",
      "\n",
      "def solve_it(input_data):\n",
      "    # Modify this code to run your optimization algorithm\n",
      "\n",
      "    # parse the input\n",
      "    lines = input_data.split('\\n')\n",
      "\n",
      "    firstLine = lines[0].split()\n",
      "    item_count = int(firstLine[0])\n",
      "    capacity = int(firstLine[1])\n",
      "\n",
      "    items = []\n",
      "\n",
      "    for i in range(1, item_count+1):\n",
      "        line = lines[i]\n",
      "        parts = line.split()\n",
      "        items.append(Item(i-1, int(parts[0]), int(parts[1])))\n",
      "\n",
      "    # a trivial greedy algorithm for filling the knapsack\n",
      "    # it takes items in-order until the knapsack is full\n",
      "    value = 0\n",
      "    weight = 0\n",
      "    taken = [0]*len(items)\n",
      "\n",
      "    for item in items:\n",
      "        if weight + item.weight <= capacity:\n",
      "            taken[item.index] = 1\n",
      "            value += item.value\n",
      "            weight += item.weight\n",
      "    \n",
      "    # prepare the solution in the specified output format\n",
      "    output_data = str(value) + ' ' + str(0) + '\\n'\n",
      "    output_data += ' '.join(map(str, taken))\n",
      "    return output_data\n",
      "\n",
      "\n",
      "import sys\n",
      "\n",
      "if __name__ == '__main__':\n",
      "    if len(sys.argv) > 1:\n",
      "        file_location = sys.argv[1].strip()\n",
      "        input_data_file = open(file_location, 'r')\n",
      "        input_data = ''.join(input_data_file.readlines())\n",
      "        input_data_file.close()\n",
      "        print solve_it(input_data)\n",
      "    else:\n",
      "        print 'This test requires an input file.  Please select one from the data directory. (i.e. python solver.py ./data/ks_4_0)'\n",
      "\n"
     ],
     "language": "python",
     "metadata": {},
     "outputs": []
    },
    {
     "cell_type": "code",
     "collapsed": false,
     "input": [
      "%run solver ./data/ks_4_0"
     ],
     "language": "python",
     "metadata": {},
     "outputs": [
      {
       "output_type": "stream",
       "stream": "stdout",
       "text": [
        "18 0\n",
        "1 1 0 0\n"
       ]
      }
     ],
     "prompt_number": 3
    },
    {
     "cell_type": "code",
     "collapsed": false,
     "input": [],
     "language": "python",
     "metadata": {},
     "outputs": []
    }
   ],
   "metadata": {}
  }
 ]
}