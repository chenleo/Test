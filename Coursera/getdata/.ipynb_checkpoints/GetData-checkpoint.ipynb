{
 "metadata": {
  "name": "",
  "signature": "sha256:bc19ef79b3a2838a5e82304ff8f419aa68c804ad36daf8a4d83c35de3776a298"
 },
 "nbformat": 3,
 "nbformat_minor": 0,
 "worksheets": [
  {
   "cells": [
    {
     "cell_type": "markdown",
     "metadata": {},
     "source": [
      "# Get Clean Data"
     ]
    },
    {
     "cell_type": "code",
     "collapsed": false,
     "input": [
      "#initial\n",
      "%matplotlib inline\n",
      "import numpy as np\n",
      "import matplotlib.pyplot as plt"
     ],
     "language": "python",
     "metadata": {},
     "outputs": [],
     "prompt_number": 1
    },
    {
     "cell_type": "code",
     "collapsed": false,
     "input": [
      "import pandas as pd"
     ],
     "language": "python",
     "metadata": {},
     "outputs": [],
     "prompt_number": 2
    },
    {
     "cell_type": "markdown",
     "metadata": {},
     "source": [
      "# Week 1"
     ]
    },
    {
     "cell_type": "code",
     "collapsed": false,
     "input": [
      "df = pd.read_csv(\"https://data.baltimorecity.gov/api/views/dz54-2aru/rows.csv\")"
     ],
     "language": "python",
     "metadata": {},
     "outputs": [],
     "prompt_number": 4
    },
    {
     "cell_type": "code",
     "collapsed": false,
     "input": [
      "df.tail()"
     ],
     "language": "python",
     "metadata": {},
     "outputs": [
      {
       "html": [
        "<div style=\"max-height:1000px;max-width:1500px;overflow:auto;\">\n",
        "<table border=\"1\" class=\"dataframe\">\n",
        "  <thead>\n",
        "    <tr style=\"text-align: right;\">\n",
        "      <th></th>\n",
        "      <th>address</th>\n",
        "      <th>direction</th>\n",
        "      <th>street</th>\n",
        "      <th>crossStreet</th>\n",
        "      <th>intersection</th>\n",
        "      <th>Location 1</th>\n",
        "    </tr>\n",
        "  </thead>\n",
        "  <tbody>\n",
        "    <tr>\n",
        "      <th>75</th>\n",
        "      <td>          HILLEN ST &amp; FORREST ST</td>\n",
        "      <td> W/B</td>\n",
        "      <td>  Hillen </td>\n",
        "      <td>       Forrest St</td>\n",
        "      <td>        Hillen \\n &amp; Forrest St</td>\n",
        "      <td> (39.2968601609, -76.6055317698)</td>\n",
        "    </tr>\n",
        "    <tr>\n",
        "      <th>76</th>\n",
        "      <td>    PULASKI HWY &amp; NORTH POINT RD</td>\n",
        "      <td> E/B</td>\n",
        "      <td> Pulaski </td>\n",
        "      <td> North Point Blvd</td>\n",
        "      <td> Pulaski \\n &amp; North Point Blvd</td>\n",
        "      <td> (39.3043275894, -76.5395800163)</td>\n",
        "    </tr>\n",
        "    <tr>\n",
        "      <th>77</th>\n",
        "      <td>   N MONROE ST &amp; W LAFAYETTE AVE</td>\n",
        "      <td> S/B</td>\n",
        "      <td>   Monroe</td>\n",
        "      <td>        Lafayette</td>\n",
        "      <td>          Monroe\\n &amp; Lafayette</td>\n",
        "      <td>  (39.2987426878, -76.647517496)</td>\n",
        "    </tr>\n",
        "    <tr>\n",
        "      <th>78</th>\n",
        "      <td> W MOUNT ROYAL AVE &amp; W NORTH AVE</td>\n",
        "      <td> N/B</td>\n",
        "      <td> Mt Royal</td>\n",
        "      <td>            North</td>\n",
        "      <td>            Mt Royal\\n &amp; North</td>\n",
        "      <td> (39.3107672842, -76.6247302963)</td>\n",
        "    </tr>\n",
        "    <tr>\n",
        "      <th>79</th>\n",
        "      <td>   MOUNT ROYAL TER &amp; W NORTH AVE</td>\n",
        "      <td> S/B</td>\n",
        "      <td> Mt Royal</td>\n",
        "      <td>            North</td>\n",
        "      <td>            Mt Royal\\n &amp; North</td>\n",
        "      <td> (39.3108706445, -76.6251255783)</td>\n",
        "    </tr>\n",
        "  </tbody>\n",
        "</table>\n",
        "<p>5 rows \u00d7 6 columns</p>\n",
        "</div>"
       ],
       "metadata": {},
       "output_type": "pyout",
       "prompt_number": 6,
       "text": [
        "                            address direction    street       crossStreet  \\\n",
        "75           HILLEN ST & FORREST ST       W/B   Hillen         Forrest St   \n",
        "76     PULASKI HWY & NORTH POINT RD       E/B  Pulaski   North Point Blvd   \n",
        "77    N MONROE ST & W LAFAYETTE AVE       S/B    Monroe         Lafayette   \n",
        "78  W MOUNT ROYAL AVE & W NORTH AVE       N/B  Mt Royal             North   \n",
        "79    MOUNT ROYAL TER & W NORTH AVE       S/B  Mt Royal             North   \n",
        "\n",
        "                     intersection                       Location 1  \n",
        "75         Hillen \\n & Forrest St  (39.2968601609, -76.6055317698)  \n",
        "76  Pulaski \\n & North Point Blvd  (39.3043275894, -76.5395800163)  \n",
        "77           Monroe\\n & Lafayette   (39.2987426878, -76.647517496)  \n",
        "78             Mt Royal\\n & North  (39.3107672842, -76.6247302963)  \n",
        "79             Mt Royal\\n & North  (39.3108706445, -76.6251255783)  \n",
        "\n",
        "[5 rows x 6 columns]"
       ]
      }
     ],
     "prompt_number": 6
    },
    {
     "cell_type": "markdown",
     "metadata": {},
     "source": [
      "## Quizes:"
     ]
    },
    {
     "cell_type": "markdown",
     "metadata": {},
     "source": [
      "### Question 1\n",
      "\n",
      "The American Community Survey distributes downloadable data about United States communities. Download the 2006 microdata survey about housing for the state of Idaho using download.file() from here: \n",
      "\n",
      "https://d396qusza40orc.cloudfront.net/getdata%2Fdata%2Fss06hid.csv \n",
      "\n",
      "and load the data into R. The code book, describing the variable names is here: \n",
      "\n",
      "https://d396qusza40orc.cloudfront.net/getdata%2Fdata%2FPUMSDataDict06.pdf \n",
      "\n",
      "How many housing units in this survey were worth more than $1,000,000?"
     ]
    },
    {
     "cell_type": "code",
     "collapsed": false,
     "input": [
      "df1 = pd.read_csv(\"https://d396qusza40orc.cloudfront.net/getdata%2Fdata%2Fss06hid.csv\")"
     ],
     "language": "python",
     "metadata": {},
     "outputs": [],
     "prompt_number": 7
    },
    {
     "cell_type": "code",
     "collapsed": false,
     "input": [
      "df1.head()"
     ],
     "language": "python",
     "metadata": {},
     "outputs": [
      {
       "html": [
        "<div style=\"max-height:1000px;max-width:1500px;overflow:auto;\">\n",
        "<table border=\"1\" class=\"dataframe\">\n",
        "  <thead>\n",
        "    <tr style=\"text-align: right;\">\n",
        "      <th></th>\n",
        "      <th>RT</th>\n",
        "      <th>SERIALNO</th>\n",
        "      <th>DIVISION</th>\n",
        "      <th>PUMA</th>\n",
        "      <th>REGION</th>\n",
        "      <th>ST</th>\n",
        "      <th>ADJUST</th>\n",
        "      <th>WGTP</th>\n",
        "      <th>NP</th>\n",
        "      <th>TYPE</th>\n",
        "      <th>ACR</th>\n",
        "      <th>AGS</th>\n",
        "      <th>BDS</th>\n",
        "      <th>BLD</th>\n",
        "      <th>BUS</th>\n",
        "      <th>CONP</th>\n",
        "      <th>ELEP</th>\n",
        "      <th>FS</th>\n",
        "      <th>FULP</th>\n",
        "      <th>GASP</th>\n",
        "      <th></th>\n",
        "    </tr>\n",
        "  </thead>\n",
        "  <tbody>\n",
        "    <tr>\n",
        "      <th>0</th>\n",
        "      <td> H</td>\n",
        "      <td> 186</td>\n",
        "      <td> 8</td>\n",
        "      <td> 700</td>\n",
        "      <td> 4</td>\n",
        "      <td> 16</td>\n",
        "      <td> 1015675</td>\n",
        "      <td>  89</td>\n",
        "      <td> 4</td>\n",
        "      <td> 1</td>\n",
        "      <td>  1</td>\n",
        "      <td>NaN</td>\n",
        "      <td> 4</td>\n",
        "      <td> 2</td>\n",
        "      <td>  2</td>\n",
        "      <td>NaN</td>\n",
        "      <td> 180</td>\n",
        "      <td> 0</td>\n",
        "      <td> 2</td>\n",
        "      <td>  3</td>\n",
        "      <td>...</td>\n",
        "    </tr>\n",
        "    <tr>\n",
        "      <th>1</th>\n",
        "      <td> H</td>\n",
        "      <td> 306</td>\n",
        "      <td> 8</td>\n",
        "      <td> 700</td>\n",
        "      <td> 4</td>\n",
        "      <td> 16</td>\n",
        "      <td> 1015675</td>\n",
        "      <td> 310</td>\n",
        "      <td> 1</td>\n",
        "      <td> 1</td>\n",
        "      <td>NaN</td>\n",
        "      <td>NaN</td>\n",
        "      <td> 1</td>\n",
        "      <td> 7</td>\n",
        "      <td>NaN</td>\n",
        "      <td>NaN</td>\n",
        "      <td>  60</td>\n",
        "      <td> 0</td>\n",
        "      <td> 2</td>\n",
        "      <td>  3</td>\n",
        "      <td>...</td>\n",
        "    </tr>\n",
        "    <tr>\n",
        "      <th>2</th>\n",
        "      <td> H</td>\n",
        "      <td> 395</td>\n",
        "      <td> 8</td>\n",
        "      <td> 100</td>\n",
        "      <td> 4</td>\n",
        "      <td> 16</td>\n",
        "      <td> 1015675</td>\n",
        "      <td> 106</td>\n",
        "      <td> 2</td>\n",
        "      <td> 1</td>\n",
        "      <td>  1</td>\n",
        "      <td>NaN</td>\n",
        "      <td> 3</td>\n",
        "      <td> 2</td>\n",
        "      <td>  2</td>\n",
        "      <td>NaN</td>\n",
        "      <td>  70</td>\n",
        "      <td> 0</td>\n",
        "      <td> 2</td>\n",
        "      <td> 30</td>\n",
        "      <td>...</td>\n",
        "    </tr>\n",
        "    <tr>\n",
        "      <th>3</th>\n",
        "      <td> H</td>\n",
        "      <td> 506</td>\n",
        "      <td> 8</td>\n",
        "      <td> 700</td>\n",
        "      <td> 4</td>\n",
        "      <td> 16</td>\n",
        "      <td> 1015675</td>\n",
        "      <td> 240</td>\n",
        "      <td> 4</td>\n",
        "      <td> 1</td>\n",
        "      <td>  1</td>\n",
        "      <td>NaN</td>\n",
        "      <td> 4</td>\n",
        "      <td> 2</td>\n",
        "      <td>  2</td>\n",
        "      <td>NaN</td>\n",
        "      <td>  40</td>\n",
        "      <td> 0</td>\n",
        "      <td> 2</td>\n",
        "      <td> 80</td>\n",
        "      <td>...</td>\n",
        "    </tr>\n",
        "    <tr>\n",
        "      <th>4</th>\n",
        "      <td> H</td>\n",
        "      <td> 835</td>\n",
        "      <td> 8</td>\n",
        "      <td> 800</td>\n",
        "      <td> 4</td>\n",
        "      <td> 16</td>\n",
        "      <td> 1015675</td>\n",
        "      <td> 118</td>\n",
        "      <td> 4</td>\n",
        "      <td> 1</td>\n",
        "      <td>  2</td>\n",
        "      <td>  1</td>\n",
        "      <td> 5</td>\n",
        "      <td> 2</td>\n",
        "      <td>  2</td>\n",
        "      <td>NaN</td>\n",
        "      <td> 250</td>\n",
        "      <td> 0</td>\n",
        "      <td> 2</td>\n",
        "      <td>  3</td>\n",
        "      <td>...</td>\n",
        "    </tr>\n",
        "  </tbody>\n",
        "</table>\n",
        "<p>5 rows \u00d7 188 columns</p>\n",
        "</div>"
       ],
       "metadata": {},
       "output_type": "pyout",
       "prompt_number": 8,
       "text": [
        "  RT  SERIALNO  DIVISION  PUMA  REGION  ST   ADJUST  WGTP  NP  TYPE  ACR  AGS  \\\n",
        "0  H       186         8   700       4  16  1015675    89   4     1    1  NaN   \n",
        "1  H       306         8   700       4  16  1015675   310   1     1  NaN  NaN   \n",
        "2  H       395         8   100       4  16  1015675   106   2     1    1  NaN   \n",
        "3  H       506         8   700       4  16  1015675   240   4     1    1  NaN   \n",
        "4  H       835         8   800       4  16  1015675   118   4     1    2    1   \n",
        "\n",
        "   BDS  BLD  BUS  CONP  ELEP  FS  FULP  GASP      \n",
        "0    4    2    2   NaN   180   0     2     3 ...  \n",
        "1    1    7  NaN   NaN    60   0     2     3 ...  \n",
        "2    3    2    2   NaN    70   0     2    30 ...  \n",
        "3    4    2    2   NaN    40   0     2    80 ...  \n",
        "4    5    2    2   NaN   250   0     2     3 ...  \n",
        "\n",
        "[5 rows x 188 columns]"
       ]
      }
     ],
     "prompt_number": 8
    },
    {
     "cell_type": "code",
     "collapsed": false,
     "input": [
      "sum(df1.VAL >= 24)"
     ],
     "language": "python",
     "metadata": {},
     "outputs": [
      {
       "metadata": {},
       "output_type": "pyout",
       "prompt_number": 12,
       "text": [
        "53"
       ]
      }
     ],
     "prompt_number": 12
    },
    {
     "cell_type": "markdown",
     "metadata": {},
     "source": [
      "### Question 2\n",
      "Use the data you loaded from Question 1. Consider the variable FES in the code book. Which of the \"tidy data\" principles does this variable violate?"
     ]
    },
    {
     "cell_type": "code",
     "collapsed": false,
     "input": [
      "df1.FES"
     ],
     "language": "python",
     "metadata": {},
     "outputs": [
      {
       "metadata": {},
       "output_type": "pyout",
       "prompt_number": 13,
       "text": [
        "0      2\n",
        "1    NaN\n",
        "2      7\n",
        "3      1\n",
        "4      1\n",
        "5      2\n",
        "6    NaN\n",
        "7    NaN\n",
        "8      2\n",
        "9    NaN\n",
        "10     7\n",
        "11     2\n",
        "12     1\n",
        "13   NaN\n",
        "14   NaN\n",
        "...\n",
        "6481     1\n",
        "6482     1\n",
        "6483   NaN\n",
        "6484     4\n",
        "6485   NaN\n",
        "6486     1\n",
        "6487   NaN\n",
        "6488     1\n",
        "6489     6\n",
        "6490   NaN\n",
        "6491     2\n",
        "6492     4\n",
        "6493     3\n",
        "6494     1\n",
        "6495     5\n",
        "Name: FES, Length: 6496, dtype: float64"
       ]
      }
     ],
     "prompt_number": 13
    },
    {
     "cell_type": "code",
     "collapsed": false,
     "input": [
      "df3 = pd.io.excel.read_excel(\"getdata-data-DATA.gov_NGAP.xlsx\",\"NGAP Sample Data\")"
     ],
     "language": "python",
     "metadata": {},
     "outputs": [],
     "prompt_number": 22
    },
    {
     "cell_type": "code",
     "collapsed": false,
     "input": [
      "80120 * 456"
     ],
     "language": "python",
     "metadata": {},
     "outputs": [
      {
       "metadata": {},
       "output_type": "pyout",
       "prompt_number": 32,
       "text": [
        "36534720"
       ]
      }
     ],
     "prompt_number": 32
    },
    {
     "cell_type": "markdown",
     "metadata": {},
     "source": [
      "### Question 4\n",
      "Read the XML data on Baltimore restaurants from here: \n",
      "\n",
      "https://d396qusza40orc.cloudfront.net/getdata%2Fdata%2Frestaurants.xml "
     ]
    },
    {
     "cell_type": "code",
     "collapsed": false,
     "input": [
      "#df4 = pd.read_html?\n",
      "from xml.dom import minidom\n",
      "xmldoc = minidom.parse(\"getdata%2Fdata%2Frestaurants.xml\")\n",
      "#(\"https://d396qusza40orc.cloudfront.net/getdata%2Fdata%2Frestaurants.xml\")"
     ],
     "language": "python",
     "metadata": {},
     "outputs": [],
     "prompt_number": 9
    },
    {
     "cell_type": "code",
     "collapsed": false,
     "input": [
      "itemlist = xmldoc.getElementsByTagName(\"zipcode\")\n",
      "len(itemlist)"
     ],
     "language": "python",
     "metadata": {},
     "outputs": [
      {
       "metadata": {},
       "output_type": "pyout",
       "prompt_number": 37,
       "text": [
        "1327"
       ]
      }
     ],
     "prompt_number": 37
    },
    {
     "cell_type": "code",
     "collapsed": false,
     "input": [
      "i2 = itemlist[2]"
     ],
     "language": "python",
     "metadata": {},
     "outputs": [],
     "prompt_number": 68
    },
    {
     "cell_type": "code",
     "collapsed": false,
     "input": [
      "itemlist[[2][0]]."
     ],
     "language": "python",
     "metadata": {},
     "outputs": [
      {
       "metadata": {},
       "output_type": "pyout",
       "prompt_number": 79,
       "text": [
        "<DOM Element: zipcode at 0x10803b290>"
       ]
      }
     ],
     "prompt_number": 79
    },
    {
     "cell_type": "code",
     "collapsed": false,
     "input": [
      "i1.attributes[\"_id\"].value"
     ],
     "language": "python",
     "metadata": {},
     "outputs": [
      {
       "metadata": {},
       "output_type": "pyout",
       "prompt_number": 36,
       "text": [
        "u'1'"
       ]
      }
     ],
     "prompt_number": 36
    },
    {
     "cell_type": "code",
     "collapsed": false,
     "input": [
      "from xml import dom"
     ],
     "language": "python",
     "metadata": {},
     "outputs": [],
     "prompt_number": 80
    },
    {
     "cell_type": "code",
     "collapsed": false,
     "input": [
      "from xml.dom import pulldom"
     ],
     "language": "python",
     "metadata": {},
     "outputs": [],
     "prompt_number": 82
    },
    {
     "cell_type": "code",
     "collapsed": false,
     "input": [
      "xmlpull = pulldom.parse(\"getdata%2Fdata%2Frestaurants.xml\")"
     ],
     "language": "python",
     "metadata": {},
     "outputs": [],
     "prompt_number": 83
    },
    {
     "cell_type": "code",
     "collapsed": false,
     "input": [
      "minidom?"
     ],
     "language": "python",
     "metadata": {},
     "outputs": [],
     "prompt_number": 95
    },
    {
     "cell_type": "code",
     "collapsed": false,
     "input": [
      "import xml.etree.ElementTree as ET\n",
      "tree = ET.parse('getdata%2Fdata%2Frestaurants.xml')\n",
      "root = tree.getroot()"
     ],
     "language": "python",
     "metadata": {},
     "outputs": [],
     "prompt_number": 96
    },
    {
     "cell_type": "code",
     "collapsed": false,
     "input": [
      "root.tag"
     ],
     "language": "python",
     "metadata": {},
     "outputs": [
      {
       "metadata": {},
       "output_type": "pyout",
       "prompt_number": 97,
       "text": [
        "'response'"
       ]
      }
     ],
     "prompt_number": 97
    },
    {
     "cell_type": "code",
     "collapsed": false,
     "input": [
      ">>> for child in root:\n",
      "...   print child.tag, child.attrib\n",
      "..."
     ],
     "language": "python",
     "metadata": {},
     "outputs": [
      {
       "output_type": "stream",
       "stream": "stdout",
       "text": [
        "row {}\n"
       ]
      }
     ],
     "prompt_number": 98
    },
    {
     "cell_type": "code",
     "collapsed": false,
     "input": [
      "root[0][2][1].text"
     ],
     "language": "python",
     "metadata": {},
     "outputs": [
      {
       "metadata": {},
       "output_type": "pyout",
       "prompt_number": 102,
       "text": [
        "'21224'"
       ]
      }
     ],
     "prompt_number": 102
    },
    {
     "cell_type": "code",
     "collapsed": false,
     "input": [
      "root[0]"
     ],
     "language": "python",
     "metadata": {},
     "outputs": [
      {
       "metadata": {},
       "output_type": "pyout",
       "prompt_number": 103,
       "text": [
        "<Element 'row' at 0x107aa5050>"
       ]
      }
     ],
     "prompt_number": 103
    },
    {
     "cell_type": "code",
     "collapsed": false,
     "input": [
      "len(root[0])"
     ],
     "language": "python",
     "metadata": {},
     "outputs": [
      {
       "metadata": {},
       "output_type": "pyout",
       "prompt_number": 104,
       "text": [
        "1327"
       ]
      }
     ],
     "prompt_number": 104
    },
    {
     "cell_type": "code",
     "collapsed": false,
     "input": [
      "rootElement = root[0]"
     ],
     "language": "python",
     "metadata": {},
     "outputs": [],
     "prompt_number": 105
    },
    {
     "cell_type": "code",
     "collapsed": false,
     "input": [
      "zipCode = [];\n",
      "for item in rootElement:\n",
      "    zipCode.append(item[1].text)"
     ],
     "language": "python",
     "metadata": {},
     "outputs": [],
     "prompt_number": 107
    },
    {
     "cell_type": "code",
     "collapsed": false,
     "input": [
      "zp = np.array(zipCode, dtype=int)"
     ],
     "language": "python",
     "metadata": {},
     "outputs": [],
     "prompt_number": 109
    },
    {
     "cell_type": "code",
     "collapsed": false,
     "input": [
      "sum(zp == 21231 )"
     ],
     "language": "python",
     "metadata": {},
     "outputs": [
      {
       "metadata": {},
       "output_type": "pyout",
       "prompt_number": 110,
       "text": [
        "127"
       ]
      }
     ],
     "prompt_number": 110
    },
    {
     "cell_type": "code",
     "collapsed": false,
     "input": [],
     "language": "python",
     "metadata": {},
     "outputs": []
    }
   ],
   "metadata": {}
  }
 ]
}