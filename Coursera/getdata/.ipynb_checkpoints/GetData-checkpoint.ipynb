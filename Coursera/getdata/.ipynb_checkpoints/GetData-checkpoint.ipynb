{
 "metadata": {
  "name": "",
  "signature": "sha256:e882d37b5c6436f583569c14fb7af6be5cba0a477268d0932bfebf738a5cdce7"
 },
 "nbformat": 3,
 "nbformat_minor": 0,
 "worksheets": []
}